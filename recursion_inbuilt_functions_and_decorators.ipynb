{
 "cells": [
  {
   "cell_type": "markdown",
   "metadata": {
    "id": "s_L5fG1wzk0f"
   },
   "source": [
    "# Recursion\n",
    "\n",
    "Python accepts function recursion, which means a defined function can call itself.\n",
    "\n",
    "With this you can loop through data to reach a result.\n"
   ]
  },
  {
   "cell_type": "markdown",
   "metadata": {
    "id": "ljG0rwlu1XVa"
   },
   "source": [
    "\n",
    "In the Example, the variable: **k**, decrements by 1 every time we recurse. \n",
    "\n",
    "The recursion **ends** when the condition k is not greater than 0 (i.e. when it is 0)."
   ]
  },
  {
   "cell_type": "code",
   "execution_count": 2,
   "metadata": {
    "id": "AymU-vfXzjpE"
   },
   "outputs": [
    {
     "name": "stdout",
     "output_type": "stream",
     "text": [
      "1\n",
      "3\n",
      "6\n",
      "10\n",
      "15\n",
      "21\n",
      "\n",
      "Recursion Example Results 21\n"
     ]
    }
   ],
   "source": [
    "def sample(k):\n",
    "    if(k>0):\n",
    "        result = k + sample(k-1)\n",
    "        print(result)\n",
    "    else:\n",
    "        result = 0\n",
    "    return result\n",
    "\n",
    "ans = sample(6)\n",
    "print(\"\\nRecursion Example Results\", ans)\n",
    "\n"
   ]
  },
  {
   "cell_type": "markdown",
   "metadata": {
    "id": "dkRWeViWz91z"
   },
   "source": [
    "### ***Note\n",
    "\n",
    "Be very careful with recursion as it can be quite easy to slip into writing a function which **never terminates**.\n",
    "\n",
    "Or one that **uses excess amounts of memory or processor power**.\n"
   ]
  },
  {
   "cell_type": "markdown",
   "metadata": {
    "id": "YzgKN5D81zkh"
   },
   "source": [
    "### **Advantages of Recursion**\n",
    "1. Recursive functions make the code look clean and elegant.\n",
    "2. A complex task can be broken down into simpler sub-problems using recursion.\n",
    "3. Sequence generation is easier with recursion than using some nested iteration.\n"
   ]
  },
  {
   "cell_type": "code",
   "execution_count": 3,
   "metadata": {
    "id": "YXBVQGty3zqi"
   },
   "outputs": [],
   "source": [
    "def deliver_recursively(houses):\n",
    "   \n",
    "    if len(houses) == 1:\n",
    "        house = houses[0]\n",
    "        print(\"Delivering to\", house)\n",
    "\n",
    "    else:\n",
    "        mid = len(houses) // 2\n",
    "        first_half = houses[:mid]\n",
    "        second_half = houses[mid:]\n",
    "\n",
    "        # Divides work among two \n",
    "        deliver_recursively(first_half)\n",
    "        deliver_recursively(second_half)\n"
   ]
  },
  {
   "cell_type": "code",
   "execution_count": 4,
   "metadata": {
    "id": "Sxlcn5Gf5ns0"
   },
   "outputs": [
    {
     "name": "stdout",
     "output_type": "stream",
     "text": [
      "Delivering to Eric's house\n",
      "Delivering to Kenny's house\n",
      "Delivering to Kyle's house\n",
      "Delivering to Stan's house\n"
     ]
    }
   ],
   "source": [
    "houses = [\"Eric's house\", \"Kenny's house\", \"Kyle's house\", \"Stan's house\"]\n",
    "deliver_recursively(houses)"
   ]
  },
  {
   "cell_type": "markdown",
   "metadata": {
    "id": "9l6D8QNCZNuW"
   },
   "source": [
    "#Decorators\n",
    "\n",
    "Python has an interesting feature called decorators to add functionality to an existing code.\n",
    "\n",
    "This is also called** metaprogramming **because a part of the program tries to modify another part of the program at compile time.\n",
    "\n"
   ]
  },
  {
   "cell_type": "markdown",
   "metadata": {
    "id": "LZlEiG-2ZXfI"
   },
   "source": [
    "###Some of the Prerequisites \n",
    "\n",
    "1. **Everything in Python are objects.**\n",
    "\n",
    "Names that we define are simply identifiers bound to these objects. \n",
    "\n",
    "Functions are no exceptions, they are objects too. Various different names can be given to the same function object."
   ]
  },
  {
   "cell_type": "code",
   "execution_count": 5,
   "metadata": {
    "colab": {
     "base_uri": "https://localhost:8080/"
    },
    "id": "cd_wuAUkaH33",
    "outputId": "420fd46e-1e83-4985-afe3-8450af2a4377"
   },
   "outputs": [
    {
     "name": "stdout",
     "output_type": "stream",
     "text": [
      "Hello\n",
      "King\n",
      "<function first at 0x7f125c69dd40> <function first at 0x7f125c69dd40>\n"
     ]
    }
   ],
   "source": [
    "def first(msg):\n",
    "    print(msg)\n",
    "\n",
    "\n",
    "first(\"Hello\")\n",
    "\n",
    "second = first\n",
    "second(\"King\")\n",
    "print(first , second)\n"
   ]
  },
  {
   "cell_type": "markdown",
   "metadata": {
    "id": "SiAEzBxBH5tn"
   },
   "source": [
    "2. **Functions can be passed as arguments to another function**\n",
    "\n",
    "Such functions that take other functions as arguments are also called higher order functions."
   ]
  },
  {
   "cell_type": "code",
   "execution_count": 6,
   "metadata": {
    "id": "Mo0zxbXiH4-n"
   },
   "outputs": [],
   "source": [
    "def inc(x):\n",
    "    return x + 1\n",
    "\n",
    "\n",
    "def dec(x):\n",
    "    return x - 1\n",
    "\n",
    "\n",
    "def operate(func, x):\n",
    "    result = func(x)\n",
    "    return result"
   ]
  },
  {
   "cell_type": "code",
   "execution_count": 7,
   "metadata": {
    "colab": {
     "base_uri": "https://localhost:8080/"
    },
    "id": "IUMZPuc2IZ5U",
    "outputId": "6e7afd70-08ce-4f12-cc45-e42adf92fa32"
   },
   "outputs": [
    {
     "data": {
      "text/plain": [
       "4"
      ]
     },
     "execution_count": 7,
     "metadata": {},
     "output_type": "execute_result"
    }
   ],
   "source": [
    "operate(inc,3)"
   ]
  },
  {
   "cell_type": "code",
   "execution_count": 8,
   "metadata": {
    "colab": {
     "base_uri": "https://localhost:8080/"
    },
    "id": "Cc660YlrIfDx",
    "outputId": "59c44140-294d-472c-e6c2-eb949bb99571"
   },
   "outputs": [
    {
     "data": {
      "text/plain": [
       "2"
      ]
     },
     "execution_count": 8,
     "metadata": {},
     "output_type": "execute_result"
    }
   ],
   "source": [
    "operate(dec,3)"
   ]
  },
  {
   "cell_type": "markdown",
   "metadata": {
    "id": "X92DfiKCIt0S"
   },
   "source": [
    "3. **Function can return another function**"
   ]
  },
  {
   "cell_type": "code",
   "execution_count": 9,
   "metadata": {
    "colab": {
     "base_uri": "https://localhost:8080/"
    },
    "id": "URKZutwdIueP",
    "outputId": "4cd7f3c9-e7a4-4f74-e93d-c34307a4f283"
   },
   "outputs": [
    {
     "name": "stdout",
     "output_type": "stream",
     "text": [
      "<function is_called.<locals>.is_returned at 0x7f125c69d4d0>\n",
      "Hello\n"
     ]
    }
   ],
   "source": [
    "def is_called():\n",
    "    def is_returned():\n",
    "        print(\"Hello\")\n",
    "    return is_returned\n",
    "\n",
    "# w=is_returned()\n",
    "\n",
    "new = is_called()\n",
    "print(new)\n",
    "\n",
    "# Outputs \"Hello\"\n",
    "new()"
   ]
  },
  {
   "cell_type": "markdown",
   "metadata": {
    "id": "h76bZi5yLlp0"
   },
   "source": [
    "#### Basically, a decorator takes in a function, adds some functionality and returns it."
   ]
  },
  {
   "cell_type": "code",
   "execution_count": 11,
   "metadata": {
    "id": "vvhyulpwLmDh"
   },
   "outputs": [],
   "source": [
    "def make_pretty(func): #decorator\n",
    "    def inner():\n",
    "        print(\"I got decorated\")\n",
    "        func()\n",
    "    return inner\n",
    "\n",
    "\n",
    "def ordinary():\n",
    "    print(\"I am ordinary\")"
   ]
  },
  {
   "cell_type": "code",
   "execution_count": 12,
   "metadata": {
    "colab": {
     "base_uri": "https://localhost:8080/"
    },
    "id": "BDQsjQCbLxkd",
    "outputId": "05d9d71d-eca6-44c4-e1bc-f0049790f950"
   },
   "outputs": [
    {
     "name": "stdout",
     "output_type": "stream",
     "text": [
      "I am ordinary\n"
     ]
    }
   ],
   "source": [
    "ordinary()"
   ]
  },
  {
   "cell_type": "code",
   "execution_count": 13,
   "metadata": {
    "colab": {
     "base_uri": "https://localhost:8080/"
    },
    "id": "_-ya8pybLz5m",
    "outputId": "8f4e83fb-e95d-4309-ec67-1e4320b995f9"
   },
   "outputs": [
    {
     "name": "stdout",
     "output_type": "stream",
     "text": [
      "I got decorated\n",
      "I am ordinary\n"
     ]
    }
   ],
   "source": [
    "pretty = make_pretty(ordinary)\n",
    "pretty()"
   ]
  },
  {
   "cell_type": "markdown",
   "metadata": {
    "id": "ux4OX4YzMLrZ"
   },
   "source": [
    "The function ordinary() got decorated and the returned function was given the name pretty.\n",
    "\n",
    "We can see that the decorator function added some new functionality to the original function. This is similar to packing a gift. The decorator acts as a wrapper."
   ]
  },
  {
   "cell_type": "markdown",
   "metadata": {
    "id": "yNb440JKMVHr"
   },
   "source": [
    "Generally, we decorate a function and reassign it as,\n",
    "\n",
    "\n",
    "\n",
    ">**ordinary = make_pretty(ordinary)**\n",
    "\n",
    "\n",
    "\n",
    "This is a common construct and for this reason, Python has a syntax to simplify this.\n",
    "\n",
    "We can use the **@** symbol along with the **name of the decorator** function and place it above the definition of the function to be decorated. \n",
    "\n",
    "For example,"
   ]
  },
  {
   "cell_type": "code",
   "execution_count": 14,
   "metadata": {
    "id": "ixTb7Gq5LySy"
   },
   "outputs": [],
   "source": [
    "@make_pretty\n",
    "def ordinary():\n",
    "    print(\"I am ordinary\")"
   ]
  },
  {
   "cell_type": "code",
   "execution_count": 15,
   "metadata": {
    "colab": {
     "base_uri": "https://localhost:8080/"
    },
    "id": "ZXu0NTS_MiXz",
    "outputId": "d4975205-fe06-467d-deae-e99204811bf6"
   },
   "outputs": [
    {
     "name": "stdout",
     "output_type": "stream",
     "text": [
      "I got decorated\n",
      "I am ordinary\n"
     ]
    }
   ],
   "source": [
    "ordinary()"
   ]
  },
  {
   "cell_type": "markdown",
   "metadata": {
    "id": "Fzw-dPYk7C5b"
   },
   "source": [
    "###Decorating Functions with Parameters\n",
    "\n",
    "if we have a functiona that took in parameters"
   ]
  },
  {
   "cell_type": "code",
   "execution_count": 16,
   "metadata": {
    "id": "YZyWEuMJ7MFc"
   },
   "outputs": [],
   "source": [
    "def divide(a, b):\n",
    "    return a/b"
   ]
  },
  {
   "cell_type": "code",
   "execution_count": 17,
   "metadata": {
    "colab": {
     "base_uri": "https://localhost:8080/",
     "height": 246
    },
    "id": "2fHUmaRx7PT7",
    "outputId": "1f0dcf7c-eeac-4b0c-e414-9da6f4bd1357"
   },
   "outputs": [
    {
     "ename": "ZeroDivisionError",
     "evalue": "division by zero",
     "output_type": "error",
     "traceback": [
      "\u001b[0;31m---------------------------------------------------------------------------\u001b[0m",
      "\u001b[0;31mZeroDivisionError\u001b[0m                         Traceback (most recent call last)",
      "\u001b[0;32m<ipython-input-17-771b99a4c9ab>\u001b[0m in \u001b[0;36m<module>\u001b[0;34m\u001b[0m\n\u001b[1;32m      1\u001b[0m \u001b[0;31m# divide(2,5)\u001b[0m\u001b[0;34m\u001b[0m\u001b[0;34m\u001b[0m\u001b[0;34m\u001b[0m\u001b[0m\n\u001b[0;32m----> 2\u001b[0;31m \u001b[0mdivide\u001b[0m\u001b[0;34m(\u001b[0m\u001b[0;36m2\u001b[0m \u001b[0;34m,\u001b[0m \u001b[0;36m0\u001b[0m\u001b[0;34m)\u001b[0m\u001b[0;34m\u001b[0m\u001b[0;34m\u001b[0m\u001b[0m\n\u001b[0m",
      "\u001b[0;32m<ipython-input-16-7507bdc665d5>\u001b[0m in \u001b[0;36mdivide\u001b[0;34m(a, b)\u001b[0m\n\u001b[1;32m      1\u001b[0m \u001b[0;32mdef\u001b[0m \u001b[0mdivide\u001b[0m\u001b[0;34m(\u001b[0m\u001b[0ma\u001b[0m\u001b[0;34m,\u001b[0m \u001b[0mb\u001b[0m\u001b[0;34m)\u001b[0m\u001b[0;34m:\u001b[0m\u001b[0;34m\u001b[0m\u001b[0;34m\u001b[0m\u001b[0m\n\u001b[0;32m----> 2\u001b[0;31m     \u001b[0;32mreturn\u001b[0m \u001b[0ma\u001b[0m\u001b[0;34m/\u001b[0m\u001b[0mb\u001b[0m\u001b[0;34m\u001b[0m\u001b[0;34m\u001b[0m\u001b[0m\n\u001b[0m",
      "\u001b[0;31mZeroDivisionError\u001b[0m: division by zero"
     ]
    }
   ],
   "source": [
    "# divide(2,5)\n",
    "divide(2 , 0)"
   ]
  },
  {
   "cell_type": "code",
   "execution_count": 18,
   "metadata": {
    "id": "eq4pXxvK7WeZ"
   },
   "outputs": [],
   "source": [
    "def smart_divide(func):\n",
    "    def inner(a, b):\n",
    "        print(\"I am going to divide\", a, \"and\", b)\n",
    "        if b == 0:\n",
    "            print(\"Whoops! cannot divide\")\n",
    "            return\n",
    "\n",
    "        return func(a, b)\n",
    "    return inner\n",
    "\n",
    "\n",
    "@smart_divide\n",
    "def divide(a, b):\n",
    "    print(a/b)"
   ]
  },
  {
   "cell_type": "code",
   "execution_count": 19,
   "metadata": {
    "colab": {
     "base_uri": "https://localhost:8080/"
    },
    "id": "T-JpYT1U7cVa",
    "outputId": "c3d88ed6-23e8-4536-c461-bc9e864b5c10"
   },
   "outputs": [
    {
     "name": "stdout",
     "output_type": "stream",
     "text": [
      "I am going to divide 2 and 0\n",
      "Whoops! cannot divide\n"
     ]
    }
   ],
   "source": [
    "# divide(2,5)\n",
    "divide(2 , 0)"
   ]
  },
  {
   "cell_type": "markdown",
   "metadata": {
    "id": "EYAwWD0n7qKf"
   },
   "source": [
    "Parameters of the nested inner() function inside the decorator is the same as the parameters of functions it decorates\n",
    "\n",
    "Taking this into account, now we can make general decorators that work with any number of parameters.\n",
    "\n",
    "\n",
    "function(*args, **kwargs)\n",
    "In this way, args will be the tuple of positional arguments and kwargs will be the dictionary of keyword arguments. "
   ]
  },
  {
   "cell_type": "code",
   "execution_count": 32,
   "metadata": {
    "id": "bnvxh5HN77Xd"
   },
   "outputs": [],
   "source": [
    "def works_for_all(func):\n",
    "    def inner(*args, **kwargs):\n",
    "        print(\"I can decorate any function\")\n",
    "        return func(*args, **kwargs)\n",
    "    return inner"
   ]
  },
  {
   "cell_type": "markdown",
   "metadata": {
    "id": "1rDfRScG7qG8"
   },
   "source": [
    "###Chaining Decorators in Python\n",
    "\n",
    "Multiple decorators can be chained in Python."
   ]
  },
  {
   "cell_type": "code",
   "execution_count": 21,
   "metadata": {
    "id": "XS1cG55g8x1N"
   },
   "outputs": [],
   "source": [
    "def star(func):\n",
    "    def inner(*args, **kwargs):\n",
    "        print(\"*\" * 30)\n",
    "        func(*args, **kwargs)\n",
    "        print(\"*\" * 30)\n",
    "    return inner\n",
    "\n",
    "\n",
    "def percent(func):\n",
    "    def inner(*args, **kwargs):\n",
    "        print(\"%\" * 30)\n",
    "        func(*args, **kwargs)\n",
    "        print(\"%\" * 30)\n",
    "    return inner\n",
    "\n",
    "\n",
    "@star\n",
    "@percent\n",
    "def printer(msg):\n",
    "    print(msg)"
   ]
  },
  {
   "cell_type": "code",
   "execution_count": 22,
   "metadata": {
    "colab": {
     "base_uri": "https://localhost:8080/"
    },
    "id": "DeDu8w398xzh",
    "outputId": "0e9d0a3d-1f44-4bd5-a3dd-1d7a8f662d22"
   },
   "outputs": [
    {
     "name": "stdout",
     "output_type": "stream",
     "text": [
      "******************************\n",
      "%%%%%%%%%%%%%%%%%%%%%%%%%%%%%%\n",
      "Hello\n",
      "%%%%%%%%%%%%%%%%%%%%%%%%%%%%%%\n",
      "******************************\n"
     ]
    }
   ],
   "source": [
    "printer('Hello')"
   ]
  },
  {
   "cell_type": "markdown",
   "metadata": {
    "id": "A0nFXHXY9_mL"
   },
   "source": [
    "# Lambda Functions\n",
    "\n",
    "\n",
    "An **anonymous function** is a function that is defined without a name.\n",
    "\n",
    "While normal functions are defined using the **def keyword**, anonymous functions are defined using the **lambda keyword**.\n",
    "\n",
    "**Hence, anonymous functions are also called lambda functions.**\n",
    "\n"
   ]
  },
  {
   "cell_type": "markdown",
   "metadata": {
    "id": "JHIHypd2-Scx"
   },
   "source": [
    "### How to use lambda Functions?\n",
    "\n",
    "It has the following syntax.\n",
    "\n",
    "> ***lambda arguments: expression***\n",
    "\n",
    "Lambda functions can have any number of arguments but only one expression\n",
    "\n"
   ]
  },
  {
   "cell_type": "code",
   "execution_count": 23,
   "metadata": {
    "colab": {
     "base_uri": "https://localhost:8080/"
    },
    "id": "o4rhQf4c-lbm",
    "outputId": "3ee156cb-61c5-4573-c98c-0c6e7b99be48"
   },
   "outputs": [
    {
     "name": "stdout",
     "output_type": "stream",
     "text": [
      "10\n"
     ]
    }
   ],
   "source": [
    "double = lambda x: x * 2 \n",
    "\n",
    "'''\n",
    "Same as:\n",
    "\n",
    "def double(x):\n",
    "   return x * 2\n",
    "'''\n",
    "\n",
    "print(double(5))"
   ]
  },
  {
   "cell_type": "markdown",
   "metadata": {
    "id": "f0XMtNhZ_CU_"
   },
   "source": [
    "#### Lambda functions are used along with built-in functions like filter(), map() etc."
   ]
  },
  {
   "cell_type": "markdown",
   "metadata": {
    "id": "ZKZHFgV0BEzN"
   },
   "source": [
    "# Map Function\n",
    "\n",
    "The map() function applies a given function to each item of an iterable (list, tuple etc.) and returns a list of the results.\n",
    "\n",
    "The syntax of map() is:\n",
    "> **map(function, iterable, ...)**\n",
    "\n",
    "### map() Parameter\n",
    "1. **function** - map() passes each item of the iterable to this function.\n",
    "2. **iterable** - iterable which is to be mapped\n",
    "\n",
    "### Return Value from map()\n",
    "The returned value from map() (map object) can then be passed to functions like list() (to create a list), set() (to create a set) and so on."
   ]
  },
  {
   "cell_type": "code",
   "execution_count": 24,
   "metadata": {
    "colab": {
     "base_uri": "https://localhost:8080/"
    },
    "id": "FKrbzRUIIX8R",
    "outputId": "28222af7-b23c-4781-e5a3-1eb2ceb0b3bc"
   },
   "outputs": [
    {
     "name": "stdout",
     "output_type": "stream",
     "text": [
      "['ALFRED', 'TABITHA', 'WILLIAM', 'ARLA']\n"
     ]
    }
   ],
   "source": [
    "my_pets = ['alfred', 'tabitha', 'william', 'arla']\n",
    "uppered_pets = []\n",
    "\n",
    "for pet in my_pets:\n",
    "    pet_ = pet.upper()\n",
    "    uppered_pets.append(pet_)\n",
    "\n",
    "print(uppered_pets)"
   ]
  },
  {
   "cell_type": "code",
   "execution_count": 25,
   "metadata": {
    "colab": {
     "base_uri": "https://localhost:8080/"
    },
    "id": "hz3tYkd9IaY2",
    "outputId": "80cd57a5-6a4a-4233-acb3-51a517639587"
   },
   "outputs": [
    {
     "name": "stdout",
     "output_type": "stream",
     "text": [
      "['ALFRED', 'TABITHA', 'WILLIAM', 'ARLA']\n",
      "<map object at 0x7f125c69ecd0>\n"
     ]
    }
   ],
   "source": [
    "my_pets = ['alfred', 'tabitha', 'william', 'arla']\n",
    "\n",
    "uppered_pets = list(map(str.upper, my_pets))\n",
    "print(uppered_pets)\n",
    "\n",
    "n = map(str.upper, my_pets)\n",
    "print(n)"
   ]
  },
  {
   "cell_type": "markdown",
   "metadata": {
    "id": "ehDbzrecImbT"
   },
   "source": [
    "***Note***: The **str.upper** function requires only one argument by definition and so we passed just one iterable to it. \n",
    "\n",
    "So, if the function you're passing requires two, or three, or n arguments, then you need to pass in two, three or n iterables to it"
   ]
  },
  {
   "cell_type": "code",
   "execution_count": 26,
   "metadata": {
    "colab": {
     "base_uri": "https://localhost:8080/"
    },
    "id": "RbGNC4UKCGSv",
    "outputId": "f34bd7bb-d163-4558-f0ed-3b467deff452"
   },
   "outputs": [
    {
     "name": "stdout",
     "output_type": "stream",
     "text": [
      "<map object at 0x7f125c67dad0>\n",
      "{16, 1, 4, 9}\n"
     ]
    }
   ],
   "source": [
    "def calculateSquare(n):\n",
    "    return n*n\n",
    "\n",
    "\n",
    "numbers = (1, 2, 3, 4)\n",
    "result = map(calculateSquare, numbers)\n",
    "print(result)\n",
    "\n",
    "# converting map object to set\n",
    "numbersSquare = set(result)\n",
    "print(numbersSquare)"
   ]
  },
  {
   "cell_type": "code",
   "execution_count": 27,
   "metadata": {
    "colab": {
     "base_uri": "https://localhost:8080/"
    },
    "id": "rr69S7yH_B0p",
    "outputId": "71b8fa2a-48f2-405a-86d1-9c258efda5cb"
   },
   "outputs": [
    {
     "name": "stdout",
     "output_type": "stream",
     "text": [
      "[2, 4, 6, 8]\n"
     ]
    }
   ],
   "source": [
    "numbers = (1, 2, 3, 4) \n",
    "result = map(lambda x: x + x, numbers) \n",
    "print(list(result)) "
   ]
  },
  {
   "cell_type": "code",
   "execution_count": 28,
   "metadata": {
    "colab": {
     "base_uri": "https://localhost:8080/"
    },
    "id": "D8lj8Rr0BKu4",
    "outputId": "a42fe2cc-f348-4da0-b35c-cf81f03a8356"
   },
   "outputs": [
    {
     "name": "stdout",
     "output_type": "stream",
     "text": [
      "<map object at 0x7f125c5b9950>\n",
      "[5, 7]\n"
     ]
    }
   ],
   "source": [
    "numbers1 = [1, 2, 3] \n",
    "numbers2 = [4, 5] \n",
    "  \n",
    "result = map(lambda x, y: x + y, numbers1, numbers2) \n",
    "print(result) \n",
    "print(list(result))"
   ]
  },
  {
   "cell_type": "code",
   "execution_count": 29,
   "metadata": {
    "colab": {
     "base_uri": "https://localhost:8080/"
    },
    "id": "lgc2gXrvBUrI",
    "outputId": "c45b144d-9f56-4789-b9f6-8fac50ed73b1"
   },
   "outputs": [
    {
     "name": "stdout",
     "output_type": "stream",
     "text": [
      "[['s', 'a', 't'], ['b', 'a', 't'], ['c', 'a', 't'], ['m', 'a', 't']]\n"
     ]
    }
   ],
   "source": [
    "l = ['sat', 'bat', 'cat', 'mat'] \n",
    "  \n",
    "# map() can listify the list of strings individually \n",
    "test = list(map(list, l)) \n",
    "print(test) "
   ]
  },
  {
   "cell_type": "markdown",
   "metadata": {
    "id": "jLdfNBWhGX1i"
   },
   "source": [
    "# Filter Function\n",
    "\n",
    "The filter() method filters the given sequence with the help of a function that tests each element in the sequence to be true or not.\n",
    "\n",
    "**syntax:**\n",
    "\n",
    "> ***filter(function, sequence)***\n",
    "\n",
    "#### **Parameters:**\n",
    "\n",
    "1. **function**: function that tests if each element of a \n",
    "sequence true or not.\n",
    "\n",
    "2. **sequence**: sequence which needs to be filtered, it can \n",
    "be sets, lists, tuples, or containers of any iterators.\n",
    "\n",
    "#### **Returns:**\n",
    "returns an iterator that is already filtered."
   ]
  },
  {
   "cell_type": "code",
   "execution_count": 30,
   "metadata": {
    "colab": {
     "base_uri": "https://localhost:8080/"
    },
    "id": "BMpvW6imG7vS",
    "outputId": "09b3a017-f296-4938-b8c3-8888dc8888a2"
   },
   "outputs": [
    {
     "name": "stdout",
     "output_type": "stream",
     "text": [
      "The filtered letters are:\n",
      "['e', 'e']\n"
     ]
    }
   ],
   "source": [
    "def fun(variable): \n",
    "    letters = ['a', 'e', 'i', 'o', 'u'] \n",
    "    if (variable in letters): \n",
    "        return True\n",
    "    else: \n",
    "        return False\n",
    "  \n",
    "  \n",
    "# sequence \n",
    "sequence = ['g', 'e', 'e', 'j', 'k', 's', 'p', 'r'] \n",
    "  \n",
    "# using filter function \n",
    "filtered = filter(fun, sequence) \n",
    "  \n",
    "print('The filtered letters are:') \n",
    "print(list(filtered)) "
   ]
  },
  {
   "cell_type": "markdown",
   "metadata": {
    "id": "aBMyBMvcKdYk"
   },
   "source": [
    "###Difference between Filter and Map Fuction:\n",
    "\n",
    "The following points are to be noted regarding filter():\n",
    "\n",
    "1. Unlike map(), only one iterable is required.\n",
    "2.\n",
    "The func argument is required to return a boolean type. If it doesn't, filter simply returns the iterable passed to it. Also, as only one iterable is required, it's implicit that func must only take one argument.\n",
    "3. filter passes each element in the iterable through func and returns only the ones that evaluate to true. I mean, it's right there in the name -- a \"filter\".\n"
   ]
  },
  {
   "cell_type": "code",
   "execution_count": 31,
   "metadata": {
    "colab": {
     "base_uri": "https://localhost:8080/"
    },
    "id": "rGXs2lkPHYDP",
    "outputId": "854ee735-0fc1-4642-eb94-590802a70cad"
   },
   "outputs": [
    {
     "name": "stdout",
     "output_type": "stream",
     "text": [
      "[1, 3, 5, 13]\n",
      "[0, 2, 8]\n"
     ]
    }
   ],
   "source": [
    "#a list contains both even and odd numbers.\n",
    "seq = [0, 1, 2, 3, 5, 8, 13] \n",
    "  \n",
    "# result contains odd numbers of the list \n",
    "result = filter(lambda x: x % 2 != 0, seq) \n",
    "print(list(result)) \n",
    "  \n",
    "# result contains even numbers of the list \n",
    "result = filter(lambda x: x % 2 == 0, seq) \n",
    "print(list(result)) "
   ]
  },
  {
   "cell_type": "markdown",
   "metadata": {
    "id": "9W0-kA6hHzUy"
   },
   "source": [
    "### Why to use Map and Filter?\n",
    "\n",
    " They allow the programmer (you) to write simpler, shorter code, without neccessarily needing to bother about loops and branching."
   ]
  },
  {
   "cell_type": "markdown",
   "metadata": {
    "id": "FFqznYeAPJC9"
   },
   "source": [
    "# Reduce() function\n",
    "\n",
    "The reduce(fun,seq) function is used to apply a particular function passed in its argument to all of the list elements mentioned in the sequence.\n",
    "\n",
    "This function is defined in “functools” module.\n",
    "\n",
    "**Working:**\n",
    "\n",
    "1. At first step, first two elements of sequence are picked and the result is obtained.\n",
    "2. Next step is to apply the same function to the previously attained result and the number just succeeding the second element and the result is again stored.\n",
    "3. This process continues till no more elements are left in the container.\n",
    "\n",
    "The final returned result is returned and printed on console."
   ]
  },
  {
   "cell_type": "markdown",
   "metadata": {
    "id": "thGb0maWYhtF"
   },
   "source": [
    "The idea behind Python’s reduce() is to take an existing function, apply it cumulatively to all the items in an iterable, and generate a single final value."
   ]
  },
  {
   "cell_type": "code",
   "execution_count": 32,
   "metadata": {
    "id": "24dwIf5QPIdE"
   },
   "outputs": [],
   "source": [
    "from functools import reduce "
   ]
  },
  {
   "cell_type": "code",
   "execution_count": 36,
   "metadata": {
    "id": "4GT4iUtjPwQf"
   },
   "outputs": [],
   "source": [
    "# initializing list \n",
    "lis = [ 1 , 3, 5, 6, 2] "
   ]
  },
  {
   "cell_type": "code",
   "execution_count": 38,
   "metadata": {
    "colab": {
     "base_uri": "https://localhost:8080/"
    },
    "id": "1LS8A2zNHyuP",
    "outputId": "6bcef4b9-125f-446a-d058-be78f5a6a670"
   },
   "outputs": [
    {
     "name": "stdout",
     "output_type": "stream",
     "text": [
      "The sum of the list elements is : 17\n"
     ]
    }
   ],
   "source": [
    "# using reduce to compute sum of list \n",
    "print (\"The sum of the list elements is : \",end=\"\") \n",
    "print (reduce(lambda a,b : a+b,lis)) \n",
    "\n",
    "# 1+3 = 4\n",
    "# 4+5 = 9\n",
    "# 9+6= 15\n",
    "# 15+2=17"
   ]
  },
  {
   "cell_type": "code",
   "execution_count": 34,
   "metadata": {
    "colab": {
     "base_uri": "https://localhost:8080/"
    },
    "id": "1s2OYlIQP3Nb",
    "outputId": "09c77c17-6cbd-4acd-8241-9c3ed17bb5fe"
   },
   "outputs": [
    {
     "name": "stdout",
     "output_type": "stream",
     "text": [
      "The maximum element of the list is : 6\n"
     ]
    }
   ],
   "source": [
    "# using reduce to compute maximum element from list \n",
    "print (\"The maximum element of the list is : \",end=\"\") \n",
    "print (reduce(lambda a,b : a if a > b else b,lis))"
   ]
  },
  {
   "cell_type": "markdown",
   "metadata": {
    "id": "-IlCkaf-Y_pI"
   },
   "source": [
    "###The Optional Argument: initializer\n",
    "The third argument to Python’s reduce(), called **initializer**, is optional. \n",
    "\n",
    "If you supply a value to initializer, then reduce() will feed it to the first call of function as its first argument.\n",
    "\n",
    "This means that the first call to function will use the value of initializer and the first item of iterable to perform its first partial computation. After this, reduce() continues working with the subsequent items of iterable.\n",
    "\n",
    "Here’s an example in which you use reduce() with initializer set to 100:"
   ]
  },
  {
   "cell_type": "code",
   "execution_count": 39,
   "metadata": {
    "colab": {
     "base_uri": "https://localhost:8080/"
    },
    "id": "Xj6oe7SFZTbs",
    "outputId": "c44037c8-42a8-4610-f980-93c037e294ea"
   },
   "outputs": [
    {
     "name": "stdout",
     "output_type": "stream",
     "text": [
      "The sum of the list elements is : 117\n"
     ]
    }
   ],
   "source": [
    "print (\"The sum of the list elements is : \",end=\"\") \n",
    "print (reduce(lambda a,b : a+b,lis , 100))\n",
    "\n",
    "# 1 + 100 = 101\n",
    "# 101 + 3 = 104\n",
    "# 104 + 5 = 109\n",
    "# 109 + 6 = 115\n",
    "# 115 + 2 = 117"
   ]
  },
  {
   "cell_type": "markdown",
   "metadata": {
    "id": "MpbWPEO6aYnp"
   },
   "source": [
    "**So,** Another point to note is that, if you supply a value to initializer, then reduce() will perform one more iteration than it would without an initializer."
   ]
  },
  {
   "cell_type": "markdown",
   "metadata": {
    "id": "FkdGB29pacPx"
   },
   "source": []
  },
  {
   "cell_type": "code",
   "execution_count": 42,
   "metadata": {
    "colab": {
     "base_uri": "https://localhost:8080/",
     "height": 178
    },
    "id": "DfvMTKzFarvj",
    "outputId": "94df14e3-962c-4154-c346-b3188c19c2e1"
   },
   "outputs": [
    {
     "ename": "TypeError",
     "evalue": "ignored",
     "output_type": "error",
     "traceback": [
      "\u001b[0;31m---------------------------------------------------------------------------\u001b[0m",
      "\u001b[0;31mTypeError\u001b[0m                                 Traceback (most recent call last)",
      "\u001b[0;32m<ipython-input-42-b504377a6820>\u001b[0m in \u001b[0;36m<module>\u001b[0;34m()\u001b[0m\n\u001b[1;32m      1\u001b[0m \u001b[0;31m# Using no initializer value\u001b[0m\u001b[0;34m\u001b[0m\u001b[0;34m\u001b[0m\u001b[0;34m\u001b[0m\u001b[0m\n\u001b[0;32m----> 2\u001b[0;31m \u001b[0mreduce\u001b[0m\u001b[0;34m(\u001b[0m\u001b[0;32mlambda\u001b[0m \u001b[0ma\u001b[0m\u001b[0;34m,\u001b[0m\u001b[0mb\u001b[0m \u001b[0;34m:\u001b[0m \u001b[0ma\u001b[0m\u001b[0;34m+\u001b[0m\u001b[0mb\u001b[0m\u001b[0;34m,\u001b[0m\u001b[0;34m[\u001b[0m\u001b[0;34m]\u001b[0m\u001b[0;34m)\u001b[0m\u001b[0;34m\u001b[0m\u001b[0;34m\u001b[0m\u001b[0m\n\u001b[0m",
      "\u001b[0;31mTypeError\u001b[0m: reduce() of empty sequence with no initial value"
     ]
    }
   ],
   "source": [
    "# Using no initializer value\n",
    "reduce(lambda a,b : a+b,[])"
   ]
  },
  {
   "cell_type": "code",
   "execution_count": 45,
   "metadata": {
    "colab": {
     "base_uri": "https://localhost:8080/"
    },
    "id": "dqcDO2aNamr1",
    "outputId": "061cdf83-44eb-4c41-f690-49b1e33b65fc"
   },
   "outputs": [
    {
     "data": {
      "text/plain": [
       "0"
      ]
     },
     "execution_count": 45,
     "metadata": {
      "tags": []
     },
     "output_type": "execute_result"
    }
   ],
   "source": [
    "reduce(lambda a,b : a+b, [] ,0)  # Use 0 as return value"
   ]
  },
  {
   "cell_type": "code",
   "execution_count": 46,
   "metadata": {
    "id": "VnTYQ04tbXq8"
   },
   "outputs": [],
   "source": [
    "#You can define a your fuction as well, if you don't want to use lambda function\n",
    "def add(a, b):\n",
    "  return a+b"
   ]
  },
  {
   "cell_type": "code",
   "execution_count": 47,
   "metadata": {
    "colab": {
     "base_uri": "https://localhost:8080/"
    },
    "id": "CF-A5eUpbkIS",
    "outputId": "ca50047f-4e00-49ed-cfa0-55dfe07349ec"
   },
   "outputs": [
    {
     "data": {
      "text/plain": [
       "117"
      ]
     },
     "execution_count": 47,
     "metadata": {
      "tags": []
     },
     "output_type": "execute_result"
    }
   ],
   "source": [
    "reduce(add, lis ,100)"
   ]
  },
  {
   "cell_type": "markdown",
   "metadata": {
    "id": "EurrVUVGdXz6"
   },
   "source": [
    "### **H.W**\n",
    "1. Difference between accumulative() and reduce()?\n",
    "2. What does zip() function do?\n",
    "           \n",
    "\n"
   ]
  },
  {
   "cell_type": "markdown",
   "metadata": {
    "id": "Vek5i0hdcjHe"
   },
   "source": [
    "**Ques1:** Use map to print the square of each numbers rounded to three decimal places\n",
    "\n",
    ">my_floats = [4.35, 6.09, 3.25, 9.77, 2.16, 8.88, 4.59\n",
    "\n"
   ]
  },
  {
   "cell_type": "code",
   "execution_count": 48,
   "metadata": {
    "colab": {
     "base_uri": "https://localhost:8080/"
    },
    "id": "skHxL6rzcIva",
    "outputId": "e118e42c-d452-4625-8fff-65641742270f"
   },
   "outputs": [
    {
     "name": "stdout",
     "output_type": "stream",
     "text": [
      "[18.922, 37.088, 10.562, 95.453, 4.666, 78.854, 21.068]\n"
     ]
    }
   ],
   "source": [
    "my_floats = [4.35, 6.09, 3.25, 9.77, 2.16, 8.88, 4.59]\n",
    "map_result = list(map(lambda x: round(x ** 2, 3), my_floats))\n",
    "print(map_result)"
   ]
  },
  {
   "cell_type": "markdown",
   "metadata": {
    "id": "tSRSOtNgcyN0"
   },
   "source": [
    "**Ques2:**  Use filter to print only the names that are less than or equal to seven letters\n",
    "\n",
    ">my_names = [\"olumide\", \"akinremi\", \"josiah\", \"temidayo\", \"omoseun\"]"
   ]
  },
  {
   "cell_type": "code",
   "execution_count": 49,
   "metadata": {
    "colab": {
     "base_uri": "https://localhost:8080/"
    },
    "id": "pV2xCR6TcSDB",
    "outputId": "385d792f-1f1b-4a81-9c5b-d7200eead423"
   },
   "outputs": [
    {
     "name": "stdout",
     "output_type": "stream",
     "text": [
      "['olumide', 'josiah', 'omoseun']\n"
     ]
    }
   ],
   "source": [
    "my_names = [\"olumide\", \"akinremi\", \"josiah\", \"temidayo\", \"omoseun\"]\n",
    "filter_result = list(filter(lambda name: len(name) <= 7, my_names))\n",
    "print(filter_result)"
   ]
  },
  {
   "cell_type": "markdown",
   "metadata": {
    "id": "_4Gsf7oZc8fU"
   },
   "source": [
    "**Ques3:** Use reduce to print the product of these numbers\n",
    ">my_numbers = [4, 6, 9, 23, 5]"
   ]
  },
  {
   "cell_type": "code",
   "execution_count": 50,
   "metadata": {
    "colab": {
     "base_uri": "https://localhost:8080/"
    },
    "id": "5JrhDf5IcUp3",
    "outputId": "7f18bf7a-a140-4d3b-be50-9633cfb6c45d"
   },
   "outputs": [
    {
     "name": "stdout",
     "output_type": "stream",
     "text": [
      "24840\n"
     ]
    }
   ],
   "source": [
    "my_numbers = [4, 6, 9, 23, 5]\n",
    "reduce_result = reduce(lambda num1, num2: num1 * num2, my_numbers)\n",
    "print(reduce_result)"
   ]
  }
 ],
 "metadata": {
  "colab": {
   "name": "Recursion, Decorators, Lambda, Map, Reduce, Filter",
   "provenance": []
  },
  "kernelspec": {
   "display_name": "Python 3",
   "language": "python",
   "name": "python3"
  },
  "language_info": {
   "codemirror_mode": {
    "name": "ipython",
    "version": 3
   },
   "file_extension": ".py",
   "mimetype": "text/x-python",
   "name": "python",
   "nbconvert_exporter": "python",
   "pygments_lexer": "ipython3",
   "version": "3.7.10"
  }
 },
 "nbformat": 4,
 "nbformat_minor": 1
}
