{
 "cells": [
  {
   "cell_type": "markdown",
   "metadata": {},
   "source": [
    "# <font color=blue> Classes and Objects </font>\n",
    "### Bundles State and Behaviour\n",
    "Python is an object oriented programming language. \n",
    "An object is simply a collection of data (variables) and methods (functions) that act on those data. Similarly, a class is a blueprint for that object.\n",
    "\n",
    "We can think of class as a sketch (prototype) of a house. It contains all the details about the floors, doors, windows etc. Based on these descriptions we build the house. House is the object.\n",
    "\n",
    "As many houses can be made from a house's blueprint, we can create many objects from a class. An object is also called an instance of a class and the process of creating this object is called <font color=red>Instantiation</font>.\n",
    "A blueprint for a house design is like a class description. All the houses built from that blueprint are objects of that class. A given house is an instance.\n"
   ]
  },
  {
   "cell_type": "markdown",
   "metadata": {},
   "source": [
    "* Python is an object-oriented language, everything in Python is an object for example strings, lists are objects defined by the string and list classes which are available by default into Python.\n",
    "* Before create a object we need to create class because class is a design which tell us how to build the object like construction of building."
   ]
  },
  {
   "cell_type": "markdown",
   "metadata": {},
   "source": [
    "https://docs.python.org/3/tutorial/classes.html"
   ]
  },
  {
   "cell_type": "markdown",
   "metadata": {},
   "source": [
    "### Defining a class"
   ]
  },
  {
   "cell_type": "code",
   "execution_count": 1,
   "metadata": {},
   "outputs": [
    {
     "data": {
      "text/plain": [
       "\"A class definition started with the keyword 'class' followed by the name of the class and a colon.\\n\\nThe statements within a class definition may be function definitions, data members or other statements.\\n\\nWhen a class definition is entered, a new namespace is created, and used as the local scope.\""
      ]
     },
     "execution_count": 1,
     "metadata": {},
     "output_type": "execute_result"
    }
   ],
   "source": [
    "class StudentData:  # use camel casing in names of classes\n",
    "    pass\n",
    "\n",
    "#    Statement-1\n",
    "#    Statement-1\n",
    "#    ....\n",
    "#    ....\n",
    "#    ....\n",
    "#    Statement-n\n",
    "\n",
    "\"\"\"A class definition started with the keyword 'class' followed by the name of the class and a colon.\n",
    "\n",
    "The statements within a class definition may be function definitions, data members or other statements.\n",
    "\n",
    "When a class definition is entered, a new namespace is created, and used as the local scope.\"\"\"\n"
   ]
  },
  {
   "cell_type": "code",
   "execution_count": 3,
   "metadata": {},
   "outputs": [
    {
     "data": {
      "text/plain": [
       "'this is the documentation for my class'"
      ]
     },
     "execution_count": 3,
     "metadata": {},
     "output_type": "execute_result"
    }
   ],
   "source": [
    "# __doc__ gives us the docstring of that class.\n",
    "class MyClass:\n",
    "    \"\"\"this is the documentation for my class\"\"\"\n",
    "    pass\n",
    "MyClass.__doc__"
   ]
  },
  {
   "cell_type": "code",
   "execution_count": 4,
   "metadata": {},
   "outputs": [
    {
     "name": "stdout",
     "output_type": "stream",
     "text": [
      "10\n",
      "<function Person.greet at 0x7f73582ce710>\n",
      "This is a person class\n"
     ]
    }
   ],
   "source": [
    "class Person:\n",
    "    \"This is a person class\"\n",
    "    age = 10\n",
    "\n",
    "    def greet(self):\n",
    "        print('Hello')\n",
    "\n",
    "\n",
    "# Output: 10\n",
    "print(Person.age)\n",
    "\n",
    "# Output: <function Person.greet>\n",
    "print(Person.greet)\n",
    "\n",
    "# Output: 'This is my second class'\n",
    "print(Person.__doc__)"
   ]
  },
  {
   "cell_type": "markdown",
   "metadata": {},
   "source": [
    "### <font color=black>Creating an Object in Python</font>"
   ]
  },
  {
   "cell_type": "code",
   "execution_count": 14,
   "metadata": {},
   "outputs": [
    {
     "name": "stdout",
     "output_type": "stream",
     "text": [
      "Hello\n",
      "Hello\n"
     ]
    },
    {
     "data": {
      "text/plain": [
       "10"
      ]
     },
     "execution_count": 14,
     "metadata": {},
     "output_type": "execute_result"
    }
   ],
   "source": [
    "person1 = Person() # creating object or instantiation\n",
    "person1.greet()\n",
    "Person.greet(person1)#understanding\n",
    "person1.age"
   ]
  },
  {
   "cell_type": "code",
   "execution_count": 18,
   "metadata": {},
   "outputs": [
    {
     "name": "stdout",
     "output_type": "stream",
     "text": [
      "<bound method Person.greet of <__main__.Person object at 0x7f10c4ec3910>>\n"
     ]
    }
   ],
   "source": [
    "# Output: <bound method Person.greet of <__main__.Person object>>\n",
    "print(person1.greet)"
   ]
  },
  {
   "cell_type": "code",
   "execution_count": 22,
   "metadata": {},
   "outputs": [
    {
     "data": {
      "text/plain": [
       "' The key difference between a function and a class method: A function is floating free. \\n    A class (instance) method has to be aware of it’s parent (and parent properties) \\n    so you need to pass the method a reference to the parent class (as self). '"
      ]
     },
     "execution_count": 22,
     "metadata": {},
     "output_type": "execute_result"
    }
   ],
   "source": [
    "\"\"\" The key difference between a function and a class method: A function is floating free. \n",
    "    A class (instance) method has to be aware of it’s parent (and parent properties) \n",
    "    so you need to pass the method a reference to the parent class (as self). \"\"\""
   ]
  },
  {
   "cell_type": "markdown",
   "metadata": {},
   "source": [
    "### Self Parameter\n",
    "The self parameter is a reference to the current instance of the class, and is used to access variables that belongs to the class.\n",
    "\n",
    "It does not have to be named self , you can call it whatever you like, but it has to be the first parameter of any function in the class.\n"
   ]
  },
  {
   "cell_type": "code",
   "execution_count": 9,
   "metadata": {},
   "outputs": [],
   "source": [
    "class computer:\n",
    "    def config(self):            #we create a method (function)\n",
    "        print(\"Hello! Computer\")\n",
    "\n",
    "#create a object\n",
    "com1=computer()\n",
    "com2=computer()       #we can make more than 1 object of same class according to our requirement\n",
    " "
   ]
  },
  {
   "cell_type": "code",
   "execution_count": 10,
   "metadata": {},
   "outputs": [
    {
     "name": "stderr",
     "output_type": "stream",
     "text": [
      "UsageError: Invalid config statement: '()    #it shows error because you need to define object', should be `Class.trait = value`.\n"
     ]
    }
   ],
   "source": [
    "config()    #it shows error because you need to define object"
   ]
  },
  {
   "cell_type": "code",
   "execution_count": 11,
   "metadata": {},
   "outputs": [
    {
     "name": "stdout",
     "output_type": "stream",
     "text": [
      "Hello! Computer\n"
     ]
    }
   ],
   "source": [
    "com1.config() # we can access bound methods after instantiation"
   ]
  },
  {
   "cell_type": "markdown",
   "metadata": {},
   "source": [
    "OK! so, we can take example there\n",
    "If you want to say anyone for move then you should use his/her name \n",
    "for example:- Hey! Ravi move or Hey! Human move. That's how its work.\n",
    "So, you should specify the function that means, you should mention the object.\n"
   ]
  },
  {
   "cell_type": "markdown",
   "metadata": {},
   "source": [
    "You may have noticed the self parameter in function definition inside the class \n",
    "but we called the method simply \n",
    "as person1.greet() without any arguments. It still worked.\n",
    "\n",
    "This is because, whenever an object calls its method, \n",
    "the object itself is passed as the first argument. So, person1.greet() translates into Person.greet(person1)."
   ]
  },
  {
   "cell_type": "code",
   "execution_count": 32,
   "metadata": {},
   "outputs": [
    {
     "name": "stdout",
     "output_type": "stream",
     "text": [
      "Hello\n"
     ]
    }
   ],
   "source": [
    "Person.greet(person1)"
   ]
  },
  {
   "cell_type": "markdown",
   "metadata": {},
   "source": [
    "### Constructors in Python"
   ]
  },
  {
   "cell_type": "markdown",
   "metadata": {},
   "source": [
    "Class functions that begin with double underscore __ are called special functions as they have special meaning.\n",
    "\n",
    "Of one particular interest is the <font color=red>__init__()</font> function. This special function gets called whenever a new object of that class is instantiated.\n",
    "\n",
    "This type of function is also called constructors in Object Oriented Programming (OOP). We normally use it to initialize all the variables.\n",
    "\n",
    "Use the init() function to assign values to object properties, or other operations that are necessary to do when the object is being created:\n",
    "\n",
    "*Note:----> *init is pronounced as dunder init, all functions with double underscore in the front and end is pronounced in this way. Example: dunder str or dunder repr."
   ]
  },
  {
   "cell_type": "code",
   "execution_count": 16,
   "metadata": {},
   "outputs": [
    {
     "name": "stdout",
     "output_type": "stream",
     "text": [
      "John\n",
      "36\n",
      "abc\n"
     ]
    }
   ],
   "source": [
    "# example1\n",
    "class Human:\n",
    "    def __init__(self):   \n",
    "        self.name = \"John\"               \n",
    "        self.age = 36\n",
    "        self.company = \"abc\"\n",
    "\n",
    "human1 = Human()\n",
    "\n",
    "print(human1.name)\n",
    "print(human1.age)\n",
    "print(human1.company)"
   ]
  },
  {
   "cell_type": "code",
   "execution_count": 17,
   "metadata": {},
   "outputs": [
    {
     "name": "stdout",
     "output_type": "stream",
     "text": [
      "2+3j\n",
      "5+0j\n",
      "(5, 0, 10)\n"
     ]
    },
    {
     "ename": "AttributeError",
     "evalue": "'ComplexNumber' object has no attribute 'attr'",
     "output_type": "error",
     "traceback": [
      "\u001b[0;31m---------------------------------------------------------------------------\u001b[0m",
      "\u001b[0;31mAttributeError\u001b[0m                            Traceback (most recent call last)",
      "\u001b[0;32m<ipython-input-17-0792d1998920>\u001b[0m in \u001b[0;36m<module>\u001b[0;34m\u001b[0m\n\u001b[1;32m     27\u001b[0m \u001b[0;31m# but c1 object doesn't have attribute 'attr'\u001b[0m\u001b[0;34m\u001b[0m\u001b[0;34m\u001b[0m\u001b[0;34m\u001b[0m\u001b[0m\n\u001b[1;32m     28\u001b[0m \u001b[0;31m# AttributeError: 'ComplexNumber' object has no attribute 'attr'\u001b[0m\u001b[0;34m\u001b[0m\u001b[0;34m\u001b[0m\u001b[0;34m\u001b[0m\u001b[0m\n\u001b[0;32m---> 29\u001b[0;31m \u001b[0mprint\u001b[0m\u001b[0;34m(\u001b[0m\u001b[0mnum1\u001b[0m\u001b[0;34m.\u001b[0m\u001b[0mattr\u001b[0m\u001b[0;34m)\u001b[0m\u001b[0;34m\u001b[0m\u001b[0;34m\u001b[0m\u001b[0m\n\u001b[0m",
      "\u001b[0;31mAttributeError\u001b[0m: 'ComplexNumber' object has no attribute 'attr'"
     ]
    }
   ],
   "source": [
    "# example2\n",
    "class ComplexNumber:\n",
    "    def __init__(self, r=0, i=0):\n",
    "        self.real = r\n",
    "        self.imag = i\n",
    "\n",
    "    def get_data(self):\n",
    "        print(f'{self.real}+{self.imag}j')\n",
    "\n",
    "\n",
    "# Create a new ComplexNumber object\n",
    "num1 = ComplexNumber(2, 3)\n",
    "\n",
    "# Call get_data() method\n",
    "# Output: 2+3j\n",
    "num1.get_data()\n",
    "\n",
    "# Create another ComplexNumber object and\n",
    "# create a new attribute 'attr',it will only get added to that instance or object will not modify the original class\n",
    "num2 = ComplexNumber(5)\n",
    "num2.get_data()\n",
    "num2.attr = 10\n",
    "\n",
    "# Output: (5, 0, 10)\n",
    "print((num2.real, num2.imag, num2.attr))\n",
    "\n",
    "# but c1 object doesn't have attribute 'attr'\n",
    "# AttributeError: 'ComplexNumber' object has no attribute 'attr'\n",
    "print(num1.attr)"
   ]
  },
  {
   "cell_type": "markdown",
   "metadata": {},
   "source": [
    "Define and attach method to particular instance"
   ]
  },
  {
   "cell_type": "code",
   "execution_count": 51,
   "metadata": {},
   "outputs": [
    {
     "name": "stdout",
     "output_type": "stream",
     "text": [
      "1 <bound method print_str of <__main__.ComplexNumber object at 0x7f10c4eb4510>>\n"
     ]
    }
   ],
   "source": [
    "import types\n",
    "\n",
    "def print_str(self):\n",
    "    print(\"attach method to instance\")\n",
    "    return \"abc\"\n",
    "    \n",
    "num2.print_str = types.MethodType( print_str, num2 )\n",
    "print(\"1\",num2.print_str)\n"
   ]
  },
  {
   "cell_type": "code",
   "execution_count": 52,
   "metadata": {},
   "outputs": [
    {
     "name": "stdout",
     "output_type": "stream",
     "text": [
      "attach method to instance\n",
      "2 abc\n"
     ]
    }
   ],
   "source": [
    "print(\"2\",num2.print_str())\n"
   ]
  },
  {
   "cell_type": "code",
   "execution_count": 53,
   "metadata": {},
   "outputs": [
    {
     "name": "stdout",
     "output_type": "stream",
     "text": [
      "3 <function print_str at 0x7f10c5255a70>\n"
     ]
    }
   ],
   "source": [
    "print(\"3\",print_str)"
   ]
  },
  {
   "cell_type": "markdown",
   "metadata": {},
   "source": [
    "### Deleting Attributes and Objects"
   ]
  },
  {
   "cell_type": "code",
   "execution_count": 55,
   "metadata": {},
   "outputs": [
    {
     "ename": "AttributeError",
     "evalue": "'ComplexNumber' object has no attribute 'imag'",
     "output_type": "error",
     "traceback": [
      "\u001b[0;31m---------------------------------------------------------------------------\u001b[0m",
      "\u001b[0;31mAttributeError\u001b[0m                            Traceback (most recent call last)",
      "\u001b[0;32m<ipython-input-55-695a8bf3acc3>\u001b[0m in \u001b[0;36m<module>\u001b[0;34m\u001b[0m\n\u001b[1;32m      1\u001b[0m \u001b[0mnum1\u001b[0m \u001b[0;34m=\u001b[0m \u001b[0mComplexNumber\u001b[0m\u001b[0;34m(\u001b[0m\u001b[0;36m2\u001b[0m\u001b[0;34m,\u001b[0m\u001b[0;36m3\u001b[0m\u001b[0;34m)\u001b[0m\u001b[0;34m\u001b[0m\u001b[0;34m\u001b[0m\u001b[0m\n\u001b[1;32m      2\u001b[0m \u001b[0;32mdel\u001b[0m \u001b[0mnum1\u001b[0m\u001b[0;34m.\u001b[0m\u001b[0mimag\u001b[0m\u001b[0;34m\u001b[0m\u001b[0;34m\u001b[0m\u001b[0m\n\u001b[0;32m----> 3\u001b[0;31m \u001b[0mnum1\u001b[0m\u001b[0;34m.\u001b[0m\u001b[0mget_data\u001b[0m\u001b[0;34m(\u001b[0m\u001b[0;34m)\u001b[0m\u001b[0;34m\u001b[0m\u001b[0;34m\u001b[0m\u001b[0m\n\u001b[0m",
      "\u001b[0;32m<ipython-input-41-dd2a2d14887e>\u001b[0m in \u001b[0;36mget_data\u001b[0;34m(self)\u001b[0m\n\u001b[1;32m      6\u001b[0m \u001b[0;34m\u001b[0m\u001b[0m\n\u001b[1;32m      7\u001b[0m     \u001b[0;32mdef\u001b[0m \u001b[0mget_data\u001b[0m\u001b[0;34m(\u001b[0m\u001b[0mself\u001b[0m\u001b[0;34m)\u001b[0m\u001b[0;34m:\u001b[0m\u001b[0;34m\u001b[0m\u001b[0;34m\u001b[0m\u001b[0m\n\u001b[0;32m----> 8\u001b[0;31m         \u001b[0mprint\u001b[0m\u001b[0;34m(\u001b[0m\u001b[0;34mf'{self.real}+{self.imag}j'\u001b[0m\u001b[0;34m)\u001b[0m\u001b[0;34m\u001b[0m\u001b[0;34m\u001b[0m\u001b[0m\n\u001b[0m\u001b[1;32m      9\u001b[0m \u001b[0;34m\u001b[0m\u001b[0m\n\u001b[1;32m     10\u001b[0m \u001b[0;34m\u001b[0m\u001b[0m\n",
      "\u001b[0;31mAttributeError\u001b[0m: 'ComplexNumber' object has no attribute 'imag'"
     ]
    }
   ],
   "source": [
    "num1 = ComplexNumber(2,3)\n",
    "del num1.imag\n",
    "num1.get_data()"
   ]
  },
  {
   "cell_type": "code",
   "execution_count": 56,
   "metadata": {},
   "outputs": [
    {
     "ename": "AttributeError",
     "evalue": "'ComplexNumber' object has no attribute 'get_data'",
     "output_type": "error",
     "traceback": [
      "\u001b[0;31m---------------------------------------------------------------------------\u001b[0m",
      "\u001b[0;31mAttributeError\u001b[0m                            Traceback (most recent call last)",
      "\u001b[0;32m<ipython-input-56-707187788474>\u001b[0m in \u001b[0;36m<module>\u001b[0;34m\u001b[0m\n\u001b[1;32m      1\u001b[0m \u001b[0;32mdel\u001b[0m \u001b[0mComplexNumber\u001b[0m\u001b[0;34m.\u001b[0m\u001b[0mget_data\u001b[0m\u001b[0;34m\u001b[0m\u001b[0;34m\u001b[0m\u001b[0m\n\u001b[0;32m----> 2\u001b[0;31m \u001b[0mnum1\u001b[0m\u001b[0;34m.\u001b[0m\u001b[0mget_data\u001b[0m\u001b[0;34m(\u001b[0m\u001b[0;34m)\u001b[0m\u001b[0;34m\u001b[0m\u001b[0;34m\u001b[0m\u001b[0m\n\u001b[0m",
      "\u001b[0;31mAttributeError\u001b[0m: 'ComplexNumber' object has no attribute 'get_data'"
     ]
    }
   ],
   "source": [
    "del ComplexNumber.get_data\n",
    "num1.get_data()"
   ]
  },
  {
   "cell_type": "code",
   "execution_count": 57,
   "metadata": {},
   "outputs": [
    {
     "ename": "NameError",
     "evalue": "name 'c1' is not defined",
     "output_type": "error",
     "traceback": [
      "\u001b[0;31m---------------------------------------------------------------------------\u001b[0m",
      "\u001b[0;31mNameError\u001b[0m                                 Traceback (most recent call last)",
      "\u001b[0;32m<ipython-input-57-01d8774537c2>\u001b[0m in \u001b[0;36m<module>\u001b[0;34m\u001b[0m\n\u001b[1;32m      3\u001b[0m \u001b[0mc1\u001b[0m \u001b[0;34m=\u001b[0m \u001b[0mComplexNumber\u001b[0m\u001b[0;34m(\u001b[0m\u001b[0;36m1\u001b[0m\u001b[0;34m,\u001b[0m\u001b[0;36m3\u001b[0m\u001b[0;34m)\u001b[0m\u001b[0;34m\u001b[0m\u001b[0;34m\u001b[0m\u001b[0m\n\u001b[1;32m      4\u001b[0m \u001b[0;32mdel\u001b[0m \u001b[0mc1\u001b[0m\u001b[0;34m\u001b[0m\u001b[0;34m\u001b[0m\u001b[0m\n\u001b[0;32m----> 5\u001b[0;31m \u001b[0mc1\u001b[0m\u001b[0;34m\u001b[0m\u001b[0;34m\u001b[0m\u001b[0m\n\u001b[0m",
      "\u001b[0;31mNameError\u001b[0m: name 'c1' is not defined"
     ]
    }
   ],
   "source": [
    "# We can even delete the object itself, using the del statement.\n",
    "\n",
    "c1 = ComplexNumber(1,3)\n",
    "del c1\n",
    "c1"
   ]
  },
  {
   "cell_type": "markdown",
   "metadata": {},
   "source": [
    "### How to create variables"
   ]
  },
  {
   "cell_type": "code",
   "execution_count": 58,
   "metadata": {},
   "outputs": [
    {
     "name": "stdout",
     "output_type": "stream",
     "text": [
      "Hi! I am John I am 36 year old\n",
      "Hi! I am Jack I am 25 year old\n"
     ]
    }
   ],
   "source": [
    "class Person:\n",
    "    def __init__(self, name, age):   \n",
    "        self.name = name               \n",
    "        self.age = age\n",
    "  \n",
    "    def intro(self):\n",
    "        print(\"Hi! I am\", self.name,\"I am\",self.age, \"year old\")\n",
    "    \n",
    "\n",
    "p1 = Person(\"John\", 36)\n",
    "p2 = Person(\"Jack\",25)\n",
    "\n",
    "p1.intro()\n",
    "p2.intro()"
   ]
  },
  {
   "cell_type": "code",
   "execution_count": 59,
   "metadata": {},
   "outputs": [
    {
     "name": "stdout",
     "output_type": "stream",
     "text": [
      "John 23\n",
      "John 23\n"
     ]
    }
   ],
   "source": [
    "#both object have same name and age\n",
    "\n",
    "class Person:\n",
    "    def __init__(self):\n",
    "        self.name=\"John\"\n",
    "        self.age=23\n",
    "\n",
    "p1=Person()\n",
    "p2=Person()\n",
    "\n",
    "print(p1.name, p1.age)\n",
    "print(p2.name, p2.age)"
   ]
  },
  {
   "cell_type": "code",
   "execution_count": 60,
   "metadata": {},
   "outputs": [
    {
     "name": "stdout",
     "output_type": "stream",
     "text": [
      "Jack 45\n",
      "Mark 23\n"
     ]
    }
   ],
   "source": [
    "# Now you want to change the name and age of one of the object\n",
    "\n",
    "class Person:\n",
    "    def __init__(self):\n",
    "        self.name=\"Mark\"\n",
    "        self.age=23\n",
    "\n",
    "p1=Person()\n",
    "p2=Person()\n",
    "\n",
    "p1.name=\"Jack\"\n",
    "p1.age=45\n",
    "print(p1.name, p1.age)\n",
    "print(p2.name, p2.age)"
   ]
  },
  {
   "cell_type": "markdown",
   "metadata": {},
   "source": [
    "### Comparing Object"
   ]
  },
  {
   "cell_type": "code",
   "execution_count": 62,
   "metadata": {},
   "outputs": [],
   "source": [
    "class Computer:\n",
    "    def __init__(self):\n",
    "        self.name=\"Mark\"\n",
    "        self.age=45\n",
    "\n",
    "    def update(self):\n",
    "        self.age=23\n",
    "\n",
    "c1=Computer()\n",
    "c2=Computer()\n",
    "\n",
    "if c1==c2:\n",
    "    print(\"They are same\")\n",
    "\n",
    "# may be they compare object address\n",
    "# So, I want to compare the value not the address \n",
    "# Compare is not inbuild function \n"
   ]
  },
  {
   "cell_type": "markdown",
   "metadata": {},
   "source": [
    "### Python Object Comparison : “is” vs “==”\n",
    "\n",
    "\n",
    "Both “is” and “==” are used for object comparison in Python. The operator “==” compares values of two objects, while “is” checks if two objects are same (In other words two references to same object).\n",
    "\n"
   ]
  },
  {
   "cell_type": "code",
   "execution_count": 65,
   "metadata": {},
   "outputs": [
    {
     "name": "stdout",
     "output_type": "stream",
     "text": [
      "Yes\n"
     ]
    }
   ],
   "source": [
    "\n",
    "# Python program to demonstrate working of  \n",
    "# \"==\" \n",
    "  \n",
    "# Two different objects having same values \n",
    "x1 = [10, 20, 30] \n",
    "x2 = [10, 20, 30] \n",
    "  \n",
    "# Comparison using \"==\" operator \n",
    "if  x1 == x2: \n",
    "    print(\"Yes\") \n",
    "else: \n",
    "    print(\"No\") \n"
   ]
  },
  {
   "cell_type": "markdown",
   "metadata": {},
   "source": [
    "The “==” operator does not tell us whether x1 and x2 are actually referring to the same object or not. We use “is” for this purpose."
   ]
  },
  {
   "cell_type": "code",
   "execution_count": 67,
   "metadata": {},
   "outputs": [
    {
     "name": "stdout",
     "output_type": "stream",
     "text": [
      "No\n",
      "Yes\n",
      "Yes\n"
     ]
    }
   ],
   "source": [
    "# Python program to demonstrate working of  \n",
    "# \"is\" \n",
    "  \n",
    "# Two different objects having same values \n",
    "x1 = [10, 20, 30] \n",
    "x2 = [10, 20, 30] \n",
    "  \n",
    "# We get \"No\" here \n",
    "if  x1 is x2: \n",
    "    print(\"Yes\") \n",
    "else: \n",
    "    print(\"No\") \n",
    "\n",
    "# It creates another reference x3 to same list. \n",
    "x3 = x1 \n",
    "  \n",
    "# So we get \"Yes\" here \n",
    "if  x1 is x3: \n",
    "    print(\"Yes\") \n",
    "else: \n",
    "    print(\"No\") \n",
    "\n",
    "# \"==\" would also produce yes anyway \n",
    "if  x1 == x3: \n",
    "    print(\"Yes\") \n",
    "else: \n",
    "    print(\"No\") \n"
   ]
  },
  {
   "cell_type": "code",
   "execution_count": 69,
   "metadata": {},
   "outputs": [
    {
     "name": "stdout",
     "output_type": "stream",
     "text": [
      "Yes\n",
      "No\n"
     ]
    }
   ],
   "source": [
    "x1 = [10, 20, 30] \n",
    "  \n",
    "# Here a new list x2 is created using x1 \n",
    "x2 = list(x1) \n",
    "  \n",
    "# The \"==\" operator would produce \"Yes\" \n",
    "if  x1 == x2: \n",
    "    print(\"Yes\") \n",
    "else: \n",
    "    print(\"No\") \n",
    "\n",
    " #But \"is\" operator would produce \"No\" \n",
    "if  x1 is x2: \n",
    "    print(\"Yes\") \n",
    "else: \n",
    "    print(\"No\") \n"
   ]
  },
  {
   "cell_type": "markdown",
   "metadata": {},
   "source": [
    "### TYPE OF VARIABLES\n",
    "1. **Instance Variable:-**variable which is common to all the object. Or we can say, If you define the variable inside the __init__ variable is called instance variable.\n",
    "\n",
    "2. **Class Variable:-**If you define the variable outside the __init__ variable but inside the class is called class variable."
   ]
  },
  {
   "cell_type": "code",
   "execution_count": 71,
   "metadata": {},
   "outputs": [
    {
     "name": "stdout",
     "output_type": "stream",
     "text": [
      "BMW 8 4\n",
      "BMW 10 4\n"
     ]
    }
   ],
   "source": [
    "class Car:\n",
    "    wheels=4     # class variable\n",
    "    def __init__(self):\n",
    "        self.mil=10\n",
    "        self.com=\"BMW\"\n",
    "  \n",
    "c1=Car()\n",
    "c2=Car()\n",
    "\n",
    "c1.mil=8    #change the value of instance variable\n",
    "\n",
    "print(c1.com, c1.mil, c1.wheels)\n",
    "print(c2.com, c2.mil, c2.wheels)"
   ]
  },
  {
   "cell_type": "code",
   "execution_count": 73,
   "metadata": {},
   "outputs": [
    {
     "name": "stdout",
     "output_type": "stream",
     "text": [
      "BMW 8 5\n",
      "BMW 10 5\n",
      "BMW 10 5\n"
     ]
    }
   ],
   "source": [
    "class Car:\n",
    "    wheels=4     # class variable\n",
    "    def __init__(self):\n",
    "        self.mil=10\n",
    "        self.com=\"BMW\"\n",
    "  \n",
    "c1=Car()\n",
    "c2=Car()\n",
    "\n",
    "c1.mil=8  # change the value of instance variable\n",
    "Car.wheels=5\n",
    "\n",
    "print(c1.com, c1.mil, c1.wheels)\n",
    "print(c2.com, c2.mil, c2.wheels)\n",
    "c3 = Car()\n",
    "print(c3.com, c3.mil, c3.wheels)"
   ]
  },
  {
   "cell_type": "markdown",
   "metadata": {},
   "source": [
    "### Different method types in python\n",
    "\n",
    "*   Instance Method\n",
    "*   Class Method\n",
    "*   Static Method\n"
   ]
  },
  {
   "cell_type": "markdown",
   "metadata": {},
   "source": [
    "#### INSTANCE METHOD:-\n",
    "\n",
    "that work with instance variable\n",
    "\n",
    "Instance method has two type:-\n",
    "\n",
    "Accessor Method:- if you want to fetch the variable is called accessor method.\n",
    "\n",
    "Mutator Method:- If you want to modify the value is called mutator method."
   ]
  },
  {
   "cell_type": "code",
   "execution_count": 74,
   "metadata": {},
   "outputs": [
    {
     "name": "stdout",
     "output_type": "stream",
     "text": [
      "37.666666666666664\n",
      "44.333333333333336\n"
     ]
    }
   ],
   "source": [
    "class Student:\n",
    "    school=\"Sabudh\"\n",
    "\n",
    "    def __init__(self,m1,m2,m3):        #m1,m2 and m3 is marks of students in any three subjects\n",
    "        self.m1=m1\n",
    "        self.m2=m2\n",
    "        self.m3=m3\n",
    "\n",
    "    def avg(self):               #Instance method\n",
    "        return (self.m1+self.m2+self.m3)/3        \n",
    "  \n",
    "s1=Student(34,47,32)\n",
    "s2=Student(89,32,12)\n",
    "\n",
    "print(s1.avg())\n",
    "print(s2.avg())\n"
   ]
  },
  {
   "cell_type": "code",
   "execution_count": 75,
   "metadata": {},
   "outputs": [
    {
     "name": "stdout",
     "output_type": "stream",
     "text": [
      "37.666666666666664\n",
      "44.333333333333336\n"
     ]
    }
   ],
   "source": [
    "class Student:\n",
    "    school=\"Sabudh\"\n",
    "\n",
    "    def __init__(self,m1,m2,m3):        #m1,m2 and m3 is marks of students in any three subjects\n",
    "        self.m1=m1\n",
    "        self.m2=m2\n",
    "        self.m3=m3\n",
    "\n",
    "    def avg(self):               #Instance method\n",
    "        return (self.m1+self.m2+self.m3)/3  \n",
    "\n",
    "    def get__m1(self):     #Accessor method oe getter method\n",
    "        return self.m1\n",
    "\n",
    "    def set__m1(self, values):     #Mutator method or setter method\n",
    "        self.m1=value\n",
    "  \n",
    "s1=Student(34,47,32)\n",
    "s2=Student(89,32,12)\n",
    "\n",
    "print(s1.avg())\n",
    "print(s2.avg())\n"
   ]
  },
  {
   "cell_type": "markdown",
   "metadata": {},
   "source": [
    "#### Class Method:- \n",
    "which work with class variable\n",
    "\n",
    "Note:- If you working with instant variable used \"self\".\n",
    "\n",
    "If you working with class variable then use \"cls\".\n"
   ]
  },
  {
   "cell_type": "code",
   "execution_count": 76,
   "metadata": {},
   "outputs": [
    {
     "name": "stdout",
     "output_type": "stream",
     "text": [
      "37.666666666666664\n",
      "44.333333333333336\n"
     ]
    },
    {
     "data": {
      "text/plain": [
       "'Sabudh'"
      ]
     },
     "execution_count": 76,
     "metadata": {},
     "output_type": "execute_result"
    }
   ],
   "source": [
    "class Student:\n",
    "    school=\"Sabudh\"\n",
    "\n",
    "    def __init__(self,m1,m2,m3):        #m1,m2 and m3 is marks of students in any three subjects\n",
    "        self.m1=m1\n",
    "        self.m2=m2\n",
    "        self.m3=m3\n",
    "\n",
    "    def avg(self):               #Instance method\n",
    "        return (self.m1+self.m2+self.m3)/3    \n",
    "\n",
    "    @classmethod\n",
    "    def info(cls):             #class method\n",
    "        return cls.school    \n",
    "  \n",
    "s1=Student(34,47,32)\n",
    "s2=Student(89,32,12)\n",
    "\n",
    "print(s1.avg())\n",
    "print(s2.avg())\n",
    "Student.info()"
   ]
  },
  {
   "cell_type": "markdown",
   "metadata": {},
   "source": [
    "#### Static Method:- \n",
    "which does not work with instance and class variable."
   ]
  },
  {
   "cell_type": "code",
   "execution_count": 77,
   "metadata": {},
   "outputs": [
    {
     "name": "stdout",
     "output_type": "stream",
     "text": [
      "37.666666666666664\n",
      "44.333333333333336\n",
      "Sabudh\n",
      "This is student of Sabudh Foundation\n"
     ]
    }
   ],
   "source": [
    "class Student:\n",
    "    school=\"Sabudh\"\n",
    "\n",
    "    def __init__(self,m1,m2,m3):        #m1,m2 and m3 is marks of students in any three subjects\n",
    "        self.m1=m1\n",
    "        self.m2=m2\n",
    "        self.m3=m3\n",
    "\n",
    "    def avg(self):               #Instance method\n",
    "        return (self.m1+self.m2+self.m3)/3    \n",
    "\n",
    "    @classmethod\n",
    "    def getschool(cls):             #class method\n",
    "        return cls.school \n",
    "\n",
    "    @staticmethod       #static method \n",
    "    def info():    \n",
    "        print(\"This is student of Sabudh Foundation\")\n",
    "      \n",
    "s1=Student(34,47,32)\n",
    "s2=Student(89,32,12)\n",
    "\n",
    "print(s1.avg())\n",
    "print(s2.avg())\n",
    "print(Student.getschool())\n",
    "Student.info()"
   ]
  },
  {
   "cell_type": "code",
   "execution_count": 78,
   "metadata": {},
   "outputs": [
    {
     "name": "stdout",
     "output_type": "stream",
     "text": [
      "Jack 2\n"
     ]
    }
   ],
   "source": [
    "class Student:\n",
    "    def __init__(self,name,rollno):\n",
    "        self.name=name\n",
    "        self.rollno=rollno\n",
    "\n",
    "s1=Student(\"Jack\",2)\n",
    "s2=Student(\"Joe\",3)\n",
    "\n",
    "print(s1.name, s1.rollno)"
   ]
  },
  {
   "cell_type": "code",
   "execution_count": 79,
   "metadata": {},
   "outputs": [
    {
     "name": "stdout",
     "output_type": "stream",
     "text": [
      "Jack 2\n"
     ]
    }
   ],
   "source": [
    "#I want to show() instead of print statement\n",
    "class Student:\n",
    "    def __init__(self,name,rollno):\n",
    "        self.name=name\n",
    "        self.rollno=rollno\n",
    "  \n",
    "    def show(self):\n",
    "        print(self.name,self.rollno)\n",
    "  \n",
    "s1=Student(\"Jack\",2)\n",
    "s2=Student(\"Joe\",3)\n",
    "\n",
    "s1.show()"
   ]
  },
  {
   "cell_type": "markdown",
   "metadata": {},
   "source": [
    "### INNER CLASS:- define class inside class\n"
   ]
  },
  {
   "cell_type": "code",
   "execution_count": 80,
   "metadata": {},
   "outputs": [
    {
     "name": "stdout",
     "output_type": "stream",
     "text": [
      "Jack 2\n",
      "93828123827376\n",
      "93828123827376\n"
     ]
    }
   ],
   "source": [
    "class Student:\n",
    "    def __init__(self,name,rollno):\n",
    "        self.name=name\n",
    "        self.rollno=rollno\n",
    "        self.lap=self.Laptop()\n",
    "  \n",
    "    def show(self):\n",
    "        print(self.name,self.rollno)\n",
    "\n",
    "    class Laptop:\n",
    "\n",
    "        def __init__(self):\n",
    "            self.brand=\"HP\"\n",
    "            self.CPU=\"i5\"\n",
    "            self.RAM=8\n",
    "  \n",
    "s1=Student(\"Jack\",2)\n",
    "s2=Student(\"Joe\",3)\n",
    "\n",
    "s1.show()\n",
    "\n",
    "lap1=s1.Laptop\n",
    "lap2=s2.Laptop\n",
    "\n",
    "print(id(lap1))\n",
    "print(id(lap2))"
   ]
  },
  {
   "cell_type": "markdown",
   "metadata": {},
   "source": [
    "Create object outside the student class\n",
    "\n",
    "You can create object of inner class outside the outer class."
   ]
  },
  {
   "cell_type": "code",
   "execution_count": 81,
   "metadata": {},
   "outputs": [
    {
     "name": "stdout",
     "output_type": "stream",
     "text": [
      "Jack 2\n",
      "HP i5 8\n"
     ]
    }
   ],
   "source": [
    "class Student:\n",
    "    def __init__(self,name,rollno):\n",
    "        self.name=name\n",
    "        self.rollno=rollno\n",
    "        self.lap=self.Laptop()\n",
    "  \n",
    "    def show(self):\n",
    "        print(self.name,self.rollno)\n",
    "        self.lap.show()\n",
    "\n",
    "    class Laptop:\n",
    "        def __init__(self):\n",
    "            self.brand=\"HP\"\n",
    "            self.CPU=\"i5\"\n",
    "            self.RAM=8\n",
    "\n",
    "        def show(self):\n",
    "            print(self.brand,self.CPU, self.RAM)\n",
    "  \n",
    "s1=Student(\"Jack\",2)\n",
    "s2=Student(\"Joe\",3)\n",
    "\n",
    "s1.show()\n"
   ]
  },
  {
   "cell_type": "code",
   "execution_count": null,
   "metadata": {},
   "outputs": [],
   "source": []
  }
 ],
 "metadata": {
  "kernelspec": {
   "display_name": "Python 3",
   "language": "python",
   "name": "python3"
  },
  "language_info": {
   "codemirror_mode": {
    "name": "ipython",
    "version": 3
   },
   "file_extension": ".py",
   "mimetype": "text/x-python",
   "name": "python",
   "nbconvert_exporter": "python",
   "pygments_lexer": "ipython3",
   "version": "3.7.4"
  }
 },
 "nbformat": 4,
 "nbformat_minor": 2
}
