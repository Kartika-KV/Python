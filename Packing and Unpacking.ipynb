{
 "cells": [
  {
   "cell_type": "markdown",
   "metadata": {
    "id": "R5mPyi5axYq2"
   },
   "source": [
    "## Packing and Unpacking of objects\n",
    "\n",
    "Consider a situation where we have a function that receives four arguments.\n",
    " \n",
    "We want to make a call to this function and we have a list of size 4 with us that has all arguments for the function. \n",
    "\n",
    "If we simply pass a list to the function, the call doesn’t work. \n",
    " \n",
    "\n",
    "\n",
    "\n",
    "\n"
   ]
  },
  {
   "cell_type": "code",
   "execution_count": 1,
   "metadata": {
    "colab": {
     "base_uri": "https://localhost:8080/",
     "height": 195
    },
    "executionInfo": {
     "elapsed": 992,
     "status": "error",
     "timestamp": 1615541476150,
     "user": {
      "displayName": "Malika Jain",
      "photoUrl": "",
      "userId": "01572307569623326714"
     },
     "user_tz": -330
    },
    "id": "8wrY2nkOxXnK",
    "outputId": "209093c0-4cf8-4374-b376-f2b85d575af4"
   },
   "outputs": [
    {
     "ename": "TypeError",
     "evalue": "fun() missing 3 required positional arguments: 'b', 'c', and 'd'",
     "output_type": "error",
     "traceback": [
      "\u001b[0;31m---------------------------------------------------------------------------\u001b[0m",
      "\u001b[0;31mTypeError\u001b[0m                                 Traceback (most recent call last)",
      "\u001b[0;32m<ipython-input-1-364b93e15d42>\u001b[0m in \u001b[0;36m<module>\u001b[0;34m\u001b[0m\n\u001b[1;32m      6\u001b[0m \u001b[0;31m# func(list[0] , list[1], list[2] , list[3])\u001b[0m\u001b[0;34m\u001b[0m\u001b[0;34m\u001b[0m\u001b[0;34m\u001b[0m\u001b[0m\n\u001b[1;32m      7\u001b[0m \u001b[0;31m# This doesn't work\u001b[0m\u001b[0;34m\u001b[0m\u001b[0;34m\u001b[0m\u001b[0;34m\u001b[0m\u001b[0m\n\u001b[0;32m----> 8\u001b[0;31m \u001b[0mfun\u001b[0m\u001b[0;34m(\u001b[0m\u001b[0mmy_list\u001b[0m\u001b[0;34m)\u001b[0m\u001b[0;34m\u001b[0m\u001b[0;34m\u001b[0m\u001b[0m\n\u001b[0m",
      "\u001b[0;31mTypeError\u001b[0m: fun() missing 3 required positional arguments: 'b', 'c', and 'd'"
     ]
    }
   ],
   "source": [
    "def fun(a, b, c, d):\n",
    "    print(a, b, c, d)\n",
    " \n",
    "#Driver Code\n",
    "my_list = [1, 2, 3, 4]\n",
    "# func(list[0] , list[1], list[2] , list[3])\n",
    "# This doesn't work\n",
    "fun(my_list)"
   ]
  },
  {
   "cell_type": "markdown",
   "metadata": {
    "id": "Q3VSvZK2xrs7"
   },
   "source": [
    "##Unpacking \n",
    "\n",
    "Use * to unpack the list so that all elements of it can be passed as different parameters."
   ]
  },
  {
   "cell_type": "code",
   "execution_count": 2,
   "metadata": {
    "colab": {
     "base_uri": "https://localhost:8080/"
    },
    "executionInfo": {
     "elapsed": 1034,
     "status": "ok",
     "timestamp": 1615541507681,
     "user": {
      "displayName": "Malika Jain",
      "photoUrl": "",
      "userId": "01572307569623326714"
     },
     "user_tz": -330
    },
    "id": "T1hpMDPuxt8N",
    "outputId": "3ca1a796-3128-4008-b8b7-71c17ee146da"
   },
   "outputs": [
    {
     "name": "stdout",
     "output_type": "stream",
     "text": [
      "1 2 3 4\n"
     ]
    }
   ],
   "source": [
    "def fun(a, b, c, d):\n",
    "    print(a, b, c, d)\n",
    " \n",
    "# Driver Code\n",
    "my_list = [1, 2, 3, 4]\n",
    " \n",
    "# Unpacking list into four arguments\n",
    "fun(*my_list)"
   ]
  },
  {
   "cell_type": "markdown",
   "metadata": {
    "id": "CZFGlxAzx0b7"
   },
   "source": [
    "Keep in mind that the no. of arguments must be the same as the length of the list that we are unpacking for the arguments."
   ]
  },
  {
   "cell_type": "code",
   "execution_count": 3,
   "metadata": {
    "colab": {
     "base_uri": "https://localhost:8080/",
     "height": 195
    },
    "executionInfo": {
     "elapsed": 949,
     "status": "error",
     "timestamp": 1615549270933,
     "user": {
      "displayName": "Malika Jain",
      "photoUrl": "",
      "userId": "01572307569623326714"
     },
     "user_tz": -330
    },
    "id": "eyKUTDhcx9-_",
    "outputId": "21fa72fc-126b-4627-d9e2-b4204a7a34e1"
   },
   "outputs": [
    {
     "ename": "TypeError",
     "evalue": "func() missing 1 required positional argument: 'c'",
     "output_type": "error",
     "traceback": [
      "\u001b[0;31m---------------------------------------------------------------------------\u001b[0m",
      "\u001b[0;31mTypeError\u001b[0m                                 Traceback (most recent call last)",
      "\u001b[0;32m<ipython-input-3-64e7747769ce>\u001b[0m in \u001b[0;36m<module>\u001b[0;34m\u001b[0m\n\u001b[1;32m      6\u001b[0m \u001b[0;34m\u001b[0m\u001b[0m\n\u001b[1;32m      7\u001b[0m \u001b[0;31m# calling function with unpacking args\u001b[0m\u001b[0;34m\u001b[0m\u001b[0;34m\u001b[0m\u001b[0;34m\u001b[0m\u001b[0m\n\u001b[0;32m----> 8\u001b[0;31m \u001b[0mfunc\u001b[0m\u001b[0;34m(\u001b[0m\u001b[0;34m*\u001b[0m\u001b[0margs\u001b[0m\u001b[0;34m)\u001b[0m\u001b[0;34m\u001b[0m\u001b[0;34m\u001b[0m\u001b[0m\n\u001b[0m",
      "\u001b[0;31mTypeError\u001b[0m: func() missing 1 required positional argument: 'c'"
     ]
    }
   ],
   "source": [
    "args = [0, 1]\n",
    "\n",
    "def func(a, b, c):\n",
    "    return a + b + c\n",
    " \n",
    " \n",
    "# calling function with unpacking args\n",
    "func(*args)"
   ]
  },
  {
   "cell_type": "markdown",
   "metadata": {
    "id": "HwmAPwTNyGnX"
   },
   "source": [
    "As another example, consider the built-in **range() function** that expects separate **start** and **stop** arguments. \n",
    "\n",
    "If they are not available separately, write the function call with the *-operator to unpack the arguments out of a list or tuple: "
   ]
  },
  {
   "cell_type": "code",
   "execution_count": 5,
   "metadata": {
    "colab": {
     "base_uri": "https://localhost:8080/"
    },
    "executionInfo": {
     "elapsed": 1013,
     "status": "ok",
     "timestamp": 1615541728794,
     "user": {
      "displayName": "Malika Jain",
      "photoUrl": "",
      "userId": "01572307569623326714"
     },
     "user_tz": -330
    },
    "id": "eQIJUi3_yRAe",
    "outputId": "cce4a9f0-4664-41e7-deef-7711c06122e1"
   },
   "outputs": [
    {
     "name": "stdout",
     "output_type": "stream",
     "text": [
      "3\n",
      "4\n",
      "5\n"
     ]
    }
   ],
   "source": [
    "for i in range(3,6):\n",
    "    print(i)\n"
   ]
  },
  {
   "cell_type": "code",
   "execution_count": 7,
   "metadata": {
    "colab": {
     "base_uri": "https://localhost:8080/"
    },
    "executionInfo": {
     "elapsed": 976,
     "status": "ok",
     "timestamp": 1615549665743,
     "user": {
      "displayName": "Malika Jain",
      "photoUrl": "",
      "userId": "01572307569623326714"
     },
     "user_tz": -330
    },
    "id": "6o6pBdndyn6w",
    "outputId": "3c17ebf5-b256-4cf6-a0d6-b3dcfcd8d2db"
   },
   "outputs": [
    {
     "name": "stdout",
     "output_type": "stream",
     "text": [
      "3\n",
      "5\n"
     ]
    }
   ],
   "source": [
    "args = [3, 7 , 2]\n",
    "for i in range(*args):\n",
    "    print(i)  # call with arguments unpacked from a list"
   ]
  },
  {
   "cell_type": "markdown",
   "metadata": {
    "id": "0PNXAxF2y2AO"
   },
   "source": [
    "## Packing \n",
    "When we don’t know how many arguments need to be passed to a python function, we can use Packing to pack all arguments in a tuple. \n",
    " "
   ]
  },
  {
   "cell_type": "code",
   "execution_count": 8,
   "metadata": {
    "colab": {
     "base_uri": "https://localhost:8080/"
    },
    "executionInfo": {
     "elapsed": 1119,
     "status": "ok",
     "timestamp": 1615542003305,
     "user": {
      "displayName": "Malika Jain",
      "photoUrl": "",
      "userId": "01572307569623326714"
     },
     "user_tz": -330
    },
    "id": "j15LIqodzpBZ",
    "outputId": "90926614-bd57-4484-ef27-7a8605b48da6"
   },
   "outputs": [
    {
     "name": "stdout",
     "output_type": "stream",
     "text": [
      "15\n",
      "30\n"
     ]
    }
   ],
   "source": [
    "def mySum(*args):\n",
    "    return sum(args)\n",
    "\n",
    "# Driver code\n",
    "print(mySum(1, 2, 3, 4, 5))\n",
    "print(mySum(10, 20))"
   ]
  },
  {
   "cell_type": "markdown",
   "metadata": {
    "id": "9wrK8kG3z1nf"
   },
   "source": [
    "### Packing and Unpacking \n",
    "Below is an example that shows both packing and unpacking. "
   ]
  },
  {
   "cell_type": "code",
   "execution_count": 12,
   "metadata": {
    "colab": {
     "base_uri": "https://localhost:8080/"
    },
    "executionInfo": {
     "elapsed": 982,
     "status": "ok",
     "timestamp": 1615550077672,
     "user": {
      "displayName": "Malika Jain",
      "photoUrl": "",
      "userId": "01572307569623326714"
     },
     "user_tz": -330
    },
    "id": "owqvrJXLz09o",
    "outputId": "d6ff7a2f-577a-4b3e-82bc-7414c65b9848"
   },
   "outputs": [
    {
     "name": "stdout",
     "output_type": "stream",
     "text": [
      "Kartika awesome world!\n"
     ]
    }
   ],
   "source": [
    "def fun1(a, b, c):\n",
    "    print(a, b, c)\n",
    "    \n",
    "def fun2(*args):\n",
    " \n",
    "    # Convert args tuple to a list so we can modify it\n",
    "    args = list(args)\n",
    " \n",
    "    # Modifying args\n",
    "    args[0] = 'Kartika'\n",
    "    args[1] = 'awesome'\n",
    " \n",
    "    # UNPACKING args and calling fun1()\n",
    "    fun1(*args)\n",
    " \n",
    "# Driver code\n",
    "fun2('Hello', 'beautiful', 'world!')"
   ]
  },
  {
   "cell_type": "code",
   "execution_count": null,
   "metadata": {},
   "outputs": [],
   "source": []
  }
 ],
 "metadata": {
  "colab": {
   "authorship_tag": "ABX9TyMRpbNkSeIZtfc1BSsNruLL",
   "name": "Packing and Unpacking",
   "provenance": []
  },
  "kernelspec": {
   "display_name": "Python 3",
   "language": "python",
   "name": "python3"
  },
  "language_info": {
   "codemirror_mode": {
    "name": "ipython",
    "version": 3
   },
   "file_extension": ".py",
   "mimetype": "text/x-python",
   "name": "python",
   "nbconvert_exporter": "python",
   "pygments_lexer": "ipython3",
   "version": "3.7.10"
  }
 },
 "nbformat": 4,
 "nbformat_minor": 1
}
