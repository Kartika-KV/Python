{
  "nbformat": 4,
  "nbformat_minor": 0,
  "metadata": {
    "colab": {
      "provenance": [],
      "authorship_tag": "ABX9TyO6DynDlbU0qbYuVGipNHZ7",
      "include_colab_link": true
    },
    "kernelspec": {
      "name": "python3",
      "display_name": "Python 3"
    },
    "language_info": {
      "name": "python"
    }
  },
  "cells": [
    {
      "cell_type": "markdown",
      "metadata": {
        "id": "view-in-github",
        "colab_type": "text"
      },
      "source": [
        "<a href=\"https://colab.research.google.com/github/Kartika-KV/Python/blob/main/Datatype.ipynb\" target=\"_parent\"><img src=\"https://colab.research.google.com/assets/colab-badge.svg\" alt=\"Open In Colab\"/></a>"
      ]
    },
    {
      "cell_type": "code",
      "execution_count": null,
      "metadata": {
        "colab": {
          "base_uri": "https://localhost:8080/"
        },
        "id": "ljUKPfDLhOZ7",
        "outputId": "e04b7ec1-fa06-4ec1-8848-2c325d289cad"
      },
      "outputs": [
        {
          "name": "stdout",
          "output_type": "stream",
          "text": [
            "Enter any number -2\n"
          ]
        }
      ],
      "source": [
        "x=int(input(\"Enter any number \"))           # 4 ,-1,5 -2\n"
      ]
    },
    {
      "cell_type": "code",
      "source": [
        "if (x < 0):\n",
        "  print(\"Negative Number\")\n",
        "else:\n",
        "  print(\"Positive Number \")"
      ],
      "metadata": {
        "colab": {
          "base_uri": "https://localhost:8080/"
        },
        "id": "1WIWXjJ3hYik",
        "outputId": "d7b504b6-f67e-42f3-8bc4-cc626094877a"
      },
      "execution_count": null,
      "outputs": [
        {
          "output_type": "stream",
          "name": "stdout",
          "text": [
            "Negative Number\n"
          ]
        }
      ]
    },
    {
      "cell_type": "code",
      "source": [
        "print(\"Hello World\")"
      ],
      "metadata": {
        "id": "xwYO7Imohz2r",
        "colab": {
          "base_uri": "https://localhost:8080/"
        },
        "outputId": "43507073-4a98-4f1e-8426-58473078b69a"
      },
      "execution_count": null,
      "outputs": [
        {
          "output_type": "stream",
          "name": "stdout",
          "text": [
            "Hello World\n"
          ]
        }
      ]
    },
    {
      "cell_type": "code",
      "source": [
        "x=input()\n",
        "print(\"the value entered is \",x)"
      ],
      "metadata": {
        "colab": {
          "base_uri": "https://localhost:8080/"
        },
        "id": "CCoGt8xqusOi",
        "outputId": "60c817df-9662-4f28-a295-e96d3075c90c"
      },
      "execution_count": null,
      "outputs": [
        {
          "output_type": "stream",
          "name": "stdout",
          "text": [
            "Aman\n",
            "the value entered is  Aman\n"
          ]
        }
      ]
    },
    {
      "cell_type": "code",
      "source": [
        "x=int(input())\n",
        "print(\"the value entered is \",x)"
      ],
      "metadata": {
        "colab": {
          "base_uri": "https://localhost:8080/"
        },
        "id": "V-gN79_JvJpp",
        "outputId": "cdeaaf86-0353-44f2-9525-9d62d75a4d9b"
      },
      "execution_count": null,
      "outputs": [
        {
          "output_type": "stream",
          "name": "stdout",
          "text": [
            "58\n",
            "the value entered is  58\n"
          ]
        }
      ]
    },
    {
      "cell_type": "code",
      "source": [
        "type(x)"
      ],
      "metadata": {
        "colab": {
          "base_uri": "https://localhost:8080/"
        },
        "id": "TO3bHuN3wUA_",
        "outputId": "426f61c5-e123-4b5a-c112-dea364700ed7"
      },
      "execution_count": null,
      "outputs": [
        {
          "output_type": "execute_result",
          "data": {
            "text/plain": [
              "int"
            ]
          },
          "metadata": {},
          "execution_count": 8
        }
      ]
    },
    {
      "cell_type": "code",
      "source": [
        "PI=3.142"
      ],
      "metadata": {
        "id": "gOi-6DcIwhNR"
      },
      "execution_count": null,
      "outputs": []
    },
    {
      "cell_type": "code",
      "source": [
        "ConstPi=3.142"
      ],
      "metadata": {
        "id": "N-9hyiSTznaS"
      },
      "execution_count": null,
      "outputs": []
    },
    {
      "cell_type": "code",
      "source": [
        "4+5"
      ],
      "metadata": {
        "colab": {
          "base_uri": "https://localhost:8080/"
        },
        "id": "JWzK44_9zrm6",
        "outputId": "0e581a08-c74d-4a1f-dea2-30001c7dc730"
      },
      "execution_count": null,
      "outputs": [
        {
          "output_type": "execute_result",
          "data": {
            "text/plain": [
              "9"
            ]
          },
          "metadata": {},
          "execution_count": 12
        }
      ]
    },
    {
      "cell_type": "code",
      "source": [
        "Number1=34    #integer\n",
        "print(type(Number1))"
      ],
      "metadata": {
        "id": "63huFyr50dXK",
        "colab": {
          "base_uri": "https://localhost:8080/"
        },
        "outputId": "be9b6b74-3c06-4cfb-9930-e2b2c6efce92"
      },
      "execution_count": null,
      "outputs": [
        {
          "output_type": "stream",
          "name": "stdout",
          "text": [
            "<class 'int'>\n"
          ]
        }
      ]
    },
    {
      "cell_type": "code",
      "source": [
        "Number1=34.56 # float or decimal or real\n",
        "type(Number1)"
      ],
      "metadata": {
        "id": "Y1CT7JE-0iw2",
        "colab": {
          "base_uri": "https://localhost:8080/"
        },
        "outputId": "1f0f632c-cc22-4672-b042-9fa0bba6ce32"
      },
      "execution_count": null,
      "outputs": [
        {
          "output_type": "execute_result",
          "data": {
            "text/plain": [
              "float"
            ]
          },
          "metadata": {},
          "execution_count": 1
        }
      ]
    },
    {
      "cell_type": "code",
      "source": [
        "Number1='A' #char\n",
        "type(Number1)"
      ],
      "metadata": {
        "colab": {
          "base_uri": "https://localhost:8080/"
        },
        "id": "6JogRUAwqYV5",
        "outputId": "2949dea1-e158-40be-f98d-8c7f4ed3c62d"
      },
      "execution_count": null,
      "outputs": [
        {
          "output_type": "execute_result",
          "data": {
            "text/plain": [
              "str"
            ]
          },
          "metadata": {},
          "execution_count": 2
        }
      ]
    },
    {
      "cell_type": "code",
      "source": [
        "Number1='Aman' #string\n",
        "type(Number1)"
      ],
      "metadata": {
        "colab": {
          "base_uri": "https://localhost:8080/"
        },
        "id": "braFf1-GqpSy",
        "outputId": "f40c9316-58d0-4db3-8311-dac295f80a8a"
      },
      "execution_count": null,
      "outputs": [
        {
          "output_type": "execute_result",
          "data": {
            "text/plain": [
              "str"
            ]
          },
          "metadata": {},
          "execution_count": 3
        }
      ]
    },
    {
      "cell_type": "code",
      "source": [
        "Number1=True #boolean\n",
        "type(Number1)"
      ],
      "metadata": {
        "colab": {
          "base_uri": "https://localhost:8080/"
        },
        "id": "qWqnA8UtqtgM",
        "outputId": "17bd0c5c-2a7e-4236-d617-e10939db9d42"
      },
      "execution_count": null,
      "outputs": [
        {
          "output_type": "execute_result",
          "data": {
            "text/plain": [
              "bool"
            ]
          },
          "metadata": {},
          "execution_count": 5
        }
      ]
    },
    {
      "cell_type": "code",
      "source": [
        "PI=3.143\n",
        "raduis=float(input(\"Enter value of raduis of cylinder \"))\n",
        "height=int(input(\"Enter value of height of cylinder\"))\n",
        "volume=PI*raduis*raduis*height\n",
        "print(\"Volume of Cylinder is \",volume)"
      ],
      "metadata": {
        "colab": {
          "base_uri": "https://localhost:8080/"
        },
        "id": "qckOG2NOqwuD",
        "outputId": "628b2a7f-fd6a-416b-a6ab-f84f70f0e5f3"
      },
      "execution_count": null,
      "outputs": [
        {
          "output_type": "stream",
          "name": "stdout",
          "text": [
            "Enter value of raduis of cylinder 5\n",
            "Enter value of height of cylinder6\n",
            "Volume of Cylinder is  471.45000000000005\n"
          ]
        }
      ]
    },
    {
      "cell_type": "code",
      "source": [
        "length=int(input())\n",
        "area=length*length\n",
        "print(area)"
      ],
      "metadata": {
        "colab": {
          "base_uri": "https://localhost:8080/"
        },
        "id": "PO21yeCvsqMK",
        "outputId": "c41231b2-aaab-4936-817b-f29f4aa9c22f"
      },
      "execution_count": null,
      "outputs": [
        {
          "output_type": "stream",
          "name": "stdout",
          "text": [
            "4\n",
            "16\n"
          ]
        }
      ]
    },
    {
      "cell_type": "code",
      "source": [
        "Total=0\n",
        "Marks=0\n",
        "Counter=-1\n",
        "print(\"Enter marks, 999 to finish\")"
      ],
      "metadata": {
        "colab": {
          "base_uri": "https://localhost:8080/"
        },
        "id": "G32w1BGht3rO",
        "outputId": "63f9492b-5296-4650-890b-67be4c15fbf4"
      },
      "execution_count": null,
      "outputs": [
        {
          "output_type": "stream",
          "name": "stdout",
          "text": [
            "Enter marks, 999 to finish\n"
          ]
        }
      ]
    },
    {
      "cell_type": "code",
      "source": [
        "Number1=25\n",
        "type(Number1)"
      ],
      "metadata": {
        "id": "dwRlbb8Q1l0R",
        "colab": {
          "base_uri": "https://localhost:8080/"
        },
        "outputId": "39d217cd-dac2-4832-b358-f90e135380de"
      },
      "execution_count": null,
      "outputs": [
        {
          "output_type": "execute_result",
          "data": {
            "text/plain": [
              "int"
            ]
          },
          "metadata": {},
          "execution_count": 5
        }
      ]
    },
    {
      "cell_type": "code",
      "source": [
        "Number2=35.6\n",
        "type(Number2)"
      ],
      "metadata": {
        "colab": {
          "base_uri": "https://localhost:8080/"
        },
        "id": "G8IP7iuCTBr7",
        "outputId": "d139f9f9-b7e8-4b15-b8ee-e0929ab4c04a"
      },
      "execution_count": null,
      "outputs": [
        {
          "output_type": "execute_result",
          "data": {
            "text/plain": [
              "float"
            ]
          },
          "metadata": {},
          "execution_count": 6
        }
      ]
    },
    {
      "cell_type": "code",
      "source": [
        "Number3='Rahul'\n",
        "type(Number3)"
      ],
      "metadata": {
        "colab": {
          "base_uri": "https://localhost:8080/"
        },
        "id": "AORf9ZbbTIoy",
        "outputId": "1e078de6-31ec-4759-80d0-998c64e5eaf3"
      },
      "execution_count": null,
      "outputs": [
        {
          "output_type": "execute_result",
          "data": {
            "text/plain": [
              "str"
            ]
          },
          "metadata": {},
          "execution_count": 7
        }
      ]
    },
    {
      "cell_type": "code",
      "source": [
        "Number4=True\n",
        "type(Number4)"
      ],
      "metadata": {
        "colab": {
          "base_uri": "https://localhost:8080/"
        },
        "id": "CexFdrOQTPGg",
        "outputId": "3425e36a-12c6-4d11-833f-816132a5ee99"
      },
      "execution_count": null,
      "outputs": [
        {
          "output_type": "execute_result",
          "data": {
            "text/plain": [
              "bool"
            ]
          },
          "metadata": {},
          "execution_count": 8
        }
      ]
    },
    {
      "cell_type": "code",
      "source": [
        "age=int(input(\"Enter Age \"))\n",
        "if age>17:\n",
        "  print(\"You are adult\")\n",
        "else:\n",
        "  print(\"You are child\")"
      ],
      "metadata": {
        "id": "QhaRTjiHTTtF",
        "colab": {
          "base_uri": "https://localhost:8080/",
          "height": 0
        },
        "outputId": "1a711358-e557-4ad2-96a2-1d066c6b649e"
      },
      "execution_count": 3,
      "outputs": [
        {
          "output_type": "stream",
          "name": "stdout",
          "text": [
            "Enter Age 4\n",
            "You are child\n"
          ]
        }
      ]
    },
    {
      "cell_type": "code",
      "source": [
        "number=int(input(\"Enter Number \"))\n",
        "if number>=100:\n",
        "  print(\"Number is Greater than or equal to 100\")\n",
        "else:\n",
        "  print(\"Number is lesser than 100 \")"
      ],
      "metadata": {
        "colab": {
          "base_uri": "https://localhost:8080/",
          "height": 0
        },
        "id": "2lJMlAmjxmuj",
        "outputId": "c175e2cf-c824-4ea1-c1d0-e4490a6d0702"
      },
      "execution_count": 5,
      "outputs": [
        {
          "output_type": "stream",
          "name": "stdout",
          "text": [
            "Enter Number 105\n",
            "Number is Greater than or equal to 100\n"
          ]
        }
      ]
    },
    {
      "cell_type": "code",
      "source": [
        "opvalue=input(\"Enter Operator \")      # +,-,*,/\n",
        "number1=int(input(\"Enter Number1 \"))\n",
        "number2=int(input(\"Enter Number2 \"))\n",
        "if opvalue==\"+\":\n",
        "  ans=number1+number2\n",
        "elif opvalue==\"-\":\n",
        "  ans=number1-number2\n",
        "elif opvalue==\"*\":\n",
        "  ans=number1*number2\n",
        "elif opvalue==\"/\":\n",
        "  ans=number1/number2\n",
        "else:\n",
        "  print(\"Invalid Operator\")\n",
        "print(ans)"
      ],
      "metadata": {
        "colab": {
          "base_uri": "https://localhost:8080/",
          "height": 0
        },
        "id": "pB6Z4dlbziKf",
        "outputId": "87c43f93-f748-49e9-9721-c7c90504391f"
      },
      "execution_count": 6,
      "outputs": [
        {
          "output_type": "stream",
          "name": "stdout",
          "text": [
            "Enter Operator +\n",
            "Enter Number1 4\n",
            "Enter Number2 5\n",
            "9\n"
          ]
        }
      ]
    },
    {
      "cell_type": "code",
      "source": [],
      "metadata": {
        "id": "gLBV1NwO2znG"
      },
      "execution_count": null,
      "outputs": []
    }
  ]
}