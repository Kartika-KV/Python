{
 "cells": [
  {
   "cell_type": "markdown",
   "metadata": {
    "id": "8aR4sFyOwOIk"
   },
   "source": [
    "### **Write a function to swap two numbers**"
   ]
  },
  {
   "cell_type": "code",
   "execution_count": 3,
   "metadata": {
    "colab": {
     "base_uri": "https://localhost:8080/"
    },
    "id": "gYLOPGXqvlwU",
    "outputId": "46447821-534e-4a3f-b104-cf8fc4a06903"
   },
   "outputs": [
    {
     "name": "stdout",
     "output_type": "stream",
     "text": [
      "(3, 2)\n",
      "2 3\n"
     ]
    }
   ],
   "source": [
    "#@title\n",
    "def swap(num1, num2):\n",
    "    num1, num2 = num2, num1\n",
    "    return num1, num2 \n",
    "num1 = 2\n",
    "num2 = 3\n",
    "print(swap(num1, num2))\n",
    "print(num1, num2)"
   ]
  },
  {
   "cell_type": "markdown",
   "metadata": {
    "id": "NI2BOfg9wXDa"
   },
   "source": [
    "### **Write a program to check if two strings ar anagram or not**\n",
    "\n",
    "Input : s1 = \"listen\"\n",
    "\n",
    "        s2 = \"silent\"\n",
    "Output : The strings are anagrams.\n",
    "\n",
    "\n",
    "Input : s1 = \"dad\"\n",
    "\n",
    "        s2 = \"bad\"\n",
    "Output : The strings aren't anagrams."
   ]
  },
  {
   "cell_type": "code",
   "execution_count": 4,
   "metadata": {
    "colab": {
     "base_uri": "https://localhost:8080/"
    },
    "id": "_iaD1MSnwxic",
    "outputId": "5fdd264e-923b-4732-cae5-b1f67c12c43a"
   },
   "outputs": [
    {
     "name": "stdout",
     "output_type": "stream",
     "text": [
      "The strings are anagrams.\n"
     ]
    }
   ],
   "source": [
    "#@title\n",
    "def check(s1, s2):\n",
    "     \n",
    "    if(sorted(s1)== sorted(s2)):\n",
    "        print(\"The strings are anagrams.\") \n",
    "    else:\n",
    "        print(\"The strings aren't anagrams.\")         \n",
    "         \n",
    " \n",
    "s1 =\"listen\"\n",
    "s2 =\"silent\"\n",
    "check(s1, s2)"
   ]
  },
  {
   "cell_type": "markdown",
   "metadata": {
    "id": "GM-c9FDWw6Z7"
   },
   "source": [
    "### **Write a function to check if a year is a leap year or not**"
   ]
  },
  {
   "cell_type": "code",
   "execution_count": 5,
   "metadata": {
    "cellView": "form",
    "colab": {
     "base_uri": "https://localhost:8080/"
    },
    "id": "BPykeKo9x1jF",
    "outputId": "db44a9f6-b707-4f0c-f90b-179ed31f22f7"
   },
   "outputs": [
    {
     "name": "stdout",
     "output_type": "stream",
     "text": [
      "Leap Year\n"
     ]
    }
   ],
   "source": [
    "#@title\n",
    "def checkYear(year):\n",
    "    if (year % 4) == 0:\n",
    "        if (year % 100) == 0:\n",
    "            if (year % 400) == 0:\n",
    "                return True\n",
    "            else:\n",
    "                return False\n",
    "        else:\n",
    "             return True\n",
    "    else:\n",
    "        return False\n",
    " \n",
    "# Driver Code \n",
    "year = 2000\n",
    "if(checkYear(year)):\n",
    "    print(\"Leap Year\")\n",
    "else:\n",
    "    print(\"Not a Leap Year\")\n",
    "     "
   ]
  },
  {
   "cell_type": "markdown",
   "metadata": {
    "id": "4ukbKviVxcP9"
   },
   "source": [
    "### **Write a finction that multiplys the given numbers**"
   ]
  },
  {
   "cell_type": "code",
   "execution_count": 6,
   "metadata": {
    "cellView": "form",
    "colab": {
     "base_uri": "https://localhost:8080/"
    },
    "id": "FNlJnZsexkF3",
    "outputId": "27c487f0-43ec-4c3f-8ad2-53230cadf4c2"
   },
   "outputs": [
    {
     "name": "stdout",
     "output_type": "stream",
     "text": [
      "720\n"
     ]
    }
   ],
   "source": [
    "#@title\n",
    "def mul(*nums):\n",
    "    product = 1\n",
    "    for num in nums:\n",
    "        product *= num\n",
    "\n",
    "    return product\n",
    "\n",
    "\n",
    "print(mul(1, 2, 3, 4, 5, 6))"
   ]
  },
  {
   "cell_type": "markdown",
   "metadata": {
    "id": "kct7reSryjzu"
   },
   "source": [
    "### **Write code that sorts the given list of tuples based on the values at second index.**\n",
    "l = [(1,2,3), (4, 7, 9), (3, 8, 0), (1, 0, 7), (6, 1, 4)]"
   ]
  },
  {
   "cell_type": "code",
   "execution_count": 7,
   "metadata": {
    "colab": {
     "base_uri": "https://localhost:8080/"
    },
    "id": "PqOr3aPvy-pj",
    "outputId": "a46fd663-ebf7-45fd-ef37-62193f81903e"
   },
   "outputs": [
    {
     "name": "stdout",
     "output_type": "stream",
     "text": [
      "[(1, 2, 3), (1, 0, 7), (3, 8, 0), (4, 7, 9), (6, 1, 4)]\n"
     ]
    },
    {
     "data": {
      "text/plain": [
       "[((3, 1), (9, 8)), ((8, 2), (8, 3)), ((4, 3), (9, 8))]"
      ]
     },
     "execution_count": 7,
     "metadata": {},
     "output_type": "execute_result"
    }
   ],
   "source": [
    "#@title\n",
    "l = [(1,2,3), (4, 7, 9), (3, 8, 0), (1, 0, 7), (6, 1, 4)]\n",
    "l.sort(key = lambda val: val[0])\n",
    "print(l)\n",
    "l1 = [((8,2),(8,3)), ((4, 3), (9, 8)), ((3, 1), (9, 8))]\n",
    "l1.sort(key = lambda val: val[0][1])\n",
    "l1"
   ]
  },
  {
   "cell_type": "markdown",
   "metadata": {
    "id": "rj2pkc4b0RbV"
   },
   "source": [
    "FULLY AUTOMATIC VENDING MACHINE – dispenses your cuppa on just press of button. A vending machine can serve range of products as follows:\n",
    "\n",
    "Coffee\n",
    "\n",
    "Espresso Coffee\n",
    "\n",
    "Cappuccino Coffee\n",
    "\n",
    "Latte Coffee\n",
    "\n",
    "Tea\n",
    "\n",
    "Plain Tea\n",
    "\n",
    "Assam Tea\n",
    "\n",
    "Ginger Tea\n",
    "\n",
    "Cardamom Tea\n",
    "\n",
    "Masala Tea\n",
    "\n",
    "Lemon Tea\n",
    "\n",
    "Green Tea\n",
    "\n",
    "Organic Darjeeling Tea\n",
    "\n",
    "Soups \n",
    "\n",
    "Hot and Sour Soup\n",
    "\n",
    "Veg Corn Soup\n",
    "\n",
    "Tomato Soup\n",
    "\n",
    "Spicy Tomato Soup\n",
    "\n",
    "Beverages\n",
    "\n",
    "Hot Chocolate Drink\n",
    "\n",
    "Badam Drink\n",
    "\n",
    "Badam-Pista Drink\n",
    "\n",
    "Write a program to take input for main menu & sub menu and display the name of sub menu selected in the following format (enter the first letter to select main menu):\n",
    "\n",
    "Welcome to CCD \n",
    "\n",
    "Enjoy your\n",
    "\n",
    "Example 1:\n",
    "\n",
    "Input:\n",
    "\n",
    "c\n",
    "\n",
    "1\n",
    "\n",
    "Output\n",
    "\n",
    "Welcome to CCD!\n",
    "\n",
    "Enjoy your Espresso Coffee!\n",
    "\n",
    "Example 2:\n",
    "\n",
    "Input\n",
    "\n",
    "t\n",
    "\n",
    "9\n",
    "\n",
    "Output\n",
    "\n",
    "INVALID OUTPUT!"
   ]
  },
  {
   "cell_type": "code",
   "execution_count": 8,
   "metadata": {
    "cellView": "form",
    "colab": {
     "base_uri": "https://localhost:8080/"
    },
    "id": "ms7yWeTY0Q1e",
    "outputId": "8f08f410-a4a8-401c-c62f-030d17c48b4e"
   },
   "outputs": [
    {
     "name": "stdout",
     "output_type": "stream",
     "text": [
      "c\n",
      "2\n",
      "Welcome to CCD!\n",
      "Enjoy your Cappuucino Coffee!\n"
     ]
    }
   ],
   "source": [
    "#@title\n",
    "menu = [['Espresso Coffee','Cappuucino Coffee','Latte Coffee'], ['Plain Tea',\n",
    "\n",
    "'Assam Tea','Ginger Tea','Cardamom Tea','Masala Tea','Lemon Tea','Green Tea',\n",
    "\n",
    "'Organic Darjeeling Tea'], ['Hot and Sour Soup','Veg Corn Soup','Tomato Soup',\n",
    "\n",
    "'Spicy Tomato Soup'], ['Hot Chocolate Drink', 'Badam Drink',\n",
    "\n",
    "'Badam-Pista Drink']]\n",
    "\n",
    "m = input()\n",
    "\n",
    "if m=='c' or m=='t' or m=='s' or m=='b':\n",
    "\n",
    "    if m=='c':\n",
    "\n",
    "        submenu = int(input())\n",
    "\n",
    "        if submenu in range(3):\n",
    "\n",
    "            print('Welcome to CCD!\\nEnjoy your {}!'.format(menu[0][submenu-1]))\n",
    "\n",
    "        else:\n",
    "\n",
    "            print(\"INVALID INPUT\")\n",
    "\n",
    "    if m=='t':\n",
    "\n",
    "        submenu = int(input())\n",
    "\n",
    "        if submenu in range(8):\n",
    "\n",
    "            print('Welcome to CCD!\\nEnjoy your {}!'.format(menu[1][submenu-1]))\n",
    "\n",
    "        else:\n",
    "\n",
    "            print(\"INVALID INPUT\")\n",
    "\n",
    "    if m=='s':\n",
    "\n",
    "        submenu = int(input())\n",
    "\n",
    "        if submenu in range(4):\n",
    "\n",
    "            print('Welcome to CCD!\\nEnjoy your {}!'.format(menu[2][submenu-1]))\n",
    "\n",
    "        else:\n",
    "\n",
    "            print(\"INVALID INPUT\")\n",
    "\n",
    "    if m=='b':\n",
    "\n",
    "        submenu = int(input())\n",
    "\n",
    "        if submenu in range(3):\n",
    "\n",
    "            print('Welcome to CCD!\\nEnjoy your {}!'.format(menu[3][submenu-1]))\n",
    "\n",
    "        else:\n",
    "\n",
    "            print(\"INVALID INPUT\")\n",
    "\n",
    "else:\n",
    "\n",
    "    print(\"INVALID INPUT!\")"
   ]
  },
  {
   "cell_type": "markdown",
   "metadata": {
    "id": "ZG6UYliV2CMF"
   },
   "source": [
    "### **What will be the output of the following Python code?**"
   ]
  },
  {
   "cell_type": "code",
   "execution_count": 9,
   "metadata": {
    "colab": {
     "base_uri": "https://localhost:8080/"
    },
    "id": "uhSY3BoC00gG",
    "outputId": "a48b057b-9c94-4027-cbc2-31ff233741bc"
   },
   "outputs": [
    {
     "name": "stdout",
     "output_type": "stream",
     "text": [
      "x is 50\n",
      "Changed global x to 2\n",
      "Value of x is 2\n"
     ]
    }
   ],
   "source": [
    "#@title\n",
    "\n",
    "\n",
    "x = 50\n",
    "def func():\n",
    "    global x\n",
    "    print('x is', x)\n",
    "    x = 2\n",
    "    print('Changed global x to', x)\n",
    "func()\n",
    "print('Value of x is', x)"
   ]
  },
  {
   "cell_type": "markdown",
   "metadata": {
    "id": "rXSLwNSb2IWx"
   },
   "source": [
    "### **What will be the output of the following Python code?**"
   ]
  },
  {
   "cell_type": "code",
   "execution_count": 11,
   "metadata": {
    "colab": {
     "base_uri": "https://localhost:8080/"
    },
    "id": "G9uHZmC811Xj",
    "outputId": "1628c54b-f47d-44bc-f098-e8b702e6d613"
   },
   "outputs": [
    {
     "name": "stdout",
     "output_type": "stream",
     "text": [
      "a is 7 and b is 3 and c is 10\n",
      "a is 4 and b is 25 and c is 24\n",
      "a is 100 and b is 12 and c is 50\n"
     ]
    }
   ],
   "source": [
    "#@title\n",
    "\n",
    "\n",
    "def func(b, a = 4, c=10):\n",
    "    print('a is', a, 'and b is', b, 'and c is', c)\n",
    "     \n",
    "func(3, 7)\n",
    "func(25, c = 24)\n",
    "func(12, c = 50, a = 100)\n"
   ]
  },
  {
   "cell_type": "code",
   "execution_count": 12,
   "metadata": {
    "colab": {
     "base_uri": "https://localhost:8080/"
    },
    "id": "tzAD3Gb9UoRA",
    "outputId": "3022aec8-71a9-4253-f9af-fa5fc01628f0"
   },
   "outputs": [
    {
     "data": {
      "text/plain": [
       "2"
      ]
     },
     "execution_count": 12,
     "metadata": {},
     "output_type": "execute_result"
    }
   ],
   "source": [
    "num = 1\n",
    "num = 2\n",
    "num"
   ]
  },
  {
   "cell_type": "code",
   "execution_count": null,
   "metadata": {},
   "outputs": [],
   "source": []
  }
 ],
 "metadata": {
  "colab": {
   "name": "Handson COE.ipynb",
   "provenance": []
  },
  "kernelspec": {
   "display_name": "Python 3",
   "language": "python",
   "name": "python3"
  },
  "language_info": {
   "codemirror_mode": {
    "name": "ipython",
    "version": 3
   },
   "file_extension": ".py",
   "mimetype": "text/x-python",
   "name": "python",
   "nbconvert_exporter": "python",
   "pygments_lexer": "ipython3",
   "version": "3.7.10"
  }
 },
 "nbformat": 4,
 "nbformat_minor": 1
}
