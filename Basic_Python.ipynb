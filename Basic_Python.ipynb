{
 "cells": [
  {
   "cell_type": "markdown",
   "metadata": {},
   "source": [
    "# Introduction\n",
    "\n",
    "Python is high-level programming Language, that is,\n",
    "Easy to Code\n",
    "Free and Open Source\n",
    "Object Oriented Language\n",
    "Interpreted Language\n",
    "Portable\n",
    "Dynamically Typed\n"
   ]
  },
  {
   "cell_type": "markdown",
   "metadata": {
    "id": "nV_rSFT-HJfe"
   },
   "source": [
    "# **Python Indentation**\n",
    "Indentation refers to the spaces at the beginning of a code line.\n",
    "\n",
    "Where in other programming languages the indentation in code is for readability only, the indentation in Python is very important.\n",
    "\n",
    "Python uses indentation to indicate a block of code."
   ]
  },
  {
   "cell_type": "code",
   "execution_count": 1,
   "metadata": {
    "colab": {
     "base_uri": "https://localhost:8080/"
    },
    "id": "i7zpi9EiHRJy",
    "outputId": "7e9ea52f-3061-4511-b328-deecca12815a"
   },
   "outputs": [
    {
     "name": "stdout",
     "output_type": "stream",
     "text": [
      "7 is greater than 5\n"
     ]
    }
   ],
   "source": [
    "if 7 > 5:\n",
    "\n",
    "  print('7 is greater than 5')"
   ]
  },
  {
   "cell_type": "markdown",
   "metadata": {
    "id": "APaS4J39Hj7T"
   },
   "source": [
    "# **Python Variables**\n",
    "In Python, variables are created when you assign a value to it"
   ]
  },
  {
   "cell_type": "code",
   "execution_count": 2,
   "metadata": {
    "colab": {
     "base_uri": "https://localhost:8080/"
    },
    "id": "6l0yKNLCHnv7",
    "outputId": "5c42bdbe-c33e-48fc-e8ee-614b67598594"
   },
   "outputs": [
    {
     "name": "stdout",
     "output_type": "stream",
     "text": [
      "<class 'int'>\n",
      "<class 'str'>\n",
      "<class 'float'>\n",
      "Toyota\n",
      "Hyundai\n",
      "Jaguar\n"
     ]
    }
   ],
   "source": [
    "x = 3 #integer\n",
    "print(type(x))\n",
    "name = 'John' #string #\"John\"\n",
    "print(type(name))\n",
    "marks = 75.5  #float\n",
    "print(type(marks))\n",
    "#assigning multiple values\n",
    "x, y, z = \"Toyota\", \"Hyundai\", \"Jaguar\"\n",
    "print(x)\n",
    "print(y)\n",
    "print(z)"
   ]
  },
  {
   "cell_type": "markdown",
   "metadata": {
    "id": "mIHsTH6iH5v_"
   },
   "source": [
    "# **Comments**\n",
    "\n",
    "Comments can be used to explain Python code.\n",
    "\n",
    "Comments can be used to make the code more readable.\n",
    "\n",
    "Comments can be used to prevent execution when testing code.\n",
    "\n",
    "Comments starts with a #, and Python will ignore them"
   ]
  },
  {
   "cell_type": "code",
   "execution_count": 27,
   "metadata": {
    "colab": {
     "base_uri": "https://localhost:8080/"
    },
    "id": "LBbBfYv2ILuK",
    "outputId": "59df0e99-75ae-4900-8d69-ab7cb67371bb"
   },
   "outputs": [
    {
     "name": "stdout",
     "output_type": "stream",
     "text": [
      "12\n",
      "5\n"
     ]
    }
   ],
   "source": [
    "# this is an example of single line comment\n",
    "# this code add two numbers\n",
    "\n",
    "c = 5+7\n",
    "print(c)\n",
    "\n",
    "\"\"\"\n",
    "this is an example of multi line comment.\n",
    "this code adds two numbers.\n",
    "\"\"\"\n",
    "\n",
    "c = 5 \n",
    "print(c)"
   ]
  },
  {
   "cell_type": "markdown",
   "metadata": {
    "id": "z0EJnIHfKPkK"
   },
   "source": [
    "# **Taking input in python**\n",
    "\n",
    "input()"
   ]
  },
  {
   "cell_type": "code",
   "execution_count": 28,
   "metadata": {
    "colab": {
     "base_uri": "https://localhost:8080/"
    },
    "id": "BurvP1ziKVVJ",
    "outputId": "7f1e9015-52e0-4e48-d7ff-8553800d4d5e"
   },
   "outputs": [
    {
     "name": "stdout",
     "output_type": "stream",
     "text": [
      "Enter your nameIshpreet\n",
      "Enter marks in Maths78\n"
     ]
    }
   ],
   "source": [
    "name = input(\"Enter your name\") #string\n",
    "marks = int(input(\"Enter marks in Maths\")) #integer input"
   ]
  },
  {
   "cell_type": "markdown",
   "metadata": {
    "id": "y5SKhC4fbzwK"
   },
   "source": [
    "# **Output Formatting**\n"
   ]
  },
  {
   "cell_type": "code",
   "execution_count": 29,
   "metadata": {
    "colab": {
     "base_uri": "https://localhost:8080/"
    },
    "id": "d7jKj6A-b2Dl",
    "outputId": "1056cf91-75bd-4e37-d911-be7e5544cbd6"
   },
   "outputs": [
    {
     "name": "stdout",
     "output_type": "stream",
     "text": [
      "Ishpreet studies Data Science\n",
      "Ishpreet studies Data Science\n"
     ]
    }
   ],
   "source": [
    "print(name, 'studies Data Science')\n",
    "print(\"{} studies Data Science\".format(name)) "
   ]
  },
  {
   "cell_type": "markdown",
   "metadata": {
    "id": "R3UgEBZTKmA0"
   },
   "source": [
    "# **Casting**\n",
    "\n",
    "used to specify the data type of a variable."
   ]
  },
  {
   "cell_type": "code",
   "execution_count": 6,
   "metadata": {
    "colab": {
     "base_uri": "https://localhost:8080/"
    },
    "id": "6uzC-broLpr7",
    "outputId": "6f3187d6-425b-4eec-cecb-8a0c26edce53"
   },
   "outputs": [
    {
     "name": "stdout",
     "output_type": "stream",
     "text": [
      "<class 'str'>\n",
      "3.0\n",
      "<class 'float'>\n"
     ]
    }
   ],
   "source": [
    "x = str(3)    # x will be '3'\n",
    "print(type(x))\n",
    "y = int(3)    # y will be 3\n",
    "z = float(3)  # z will be 3.0\n",
    "print(z)\n",
    "print(type(z))"
   ]
  },
  {
   "cell_type": "markdown",
   "metadata": {
    "id": "VccLV0wlLtTC"
   },
   "source": [
    "# **Get the Type**\n",
    "\n",
    "to get the data type of a variable with the type() function"
   ]
  },
  {
   "cell_type": "code",
   "execution_count": 7,
   "metadata": {
    "colab": {
     "base_uri": "https://localhost:8080/"
    },
    "id": "5zzdDMoYLu8u",
    "outputId": "cd14a238-6733-40eb-baa7-3bc8ce23f786"
   },
   "outputs": [
    {
     "name": "stdout",
     "output_type": "stream",
     "text": [
      "<class 'int'>\n",
      "<class 'str'>\n"
     ]
    }
   ],
   "source": [
    "x = 5\n",
    "y = \"John\"\n",
    "print(type(x))\n",
    "print(type(y))"
   ]
  },
  {
   "cell_type": "markdown",
   "metadata": {
    "id": "X2PYIKmvL0dW"
   },
   "source": [
    "# **Python Numbers**\n",
    "\n",
    "There are three numeric types in Python:\n",
    "\n",
    "int\n",
    "\n",
    "float\n",
    "\n",
    "complex\n",
    "\n",
    "Variables of numeric types are created when you assign a value to them:"
   ]
  },
  {
   "cell_type": "code",
   "execution_count": 8,
   "metadata": {
    "colab": {
     "base_uri": "https://localhost:8080/"
    },
    "id": "rcAKP9ayNUzN",
    "outputId": "81931110-55bc-41b3-cfa7-4eaa5f4eaf0b"
   },
   "outputs": [
    {
     "name": "stdout",
     "output_type": "stream",
     "text": [
      "<class 'int'>\n",
      "<class 'int'>\n",
      "<class 'int'>\n"
     ]
    }
   ],
   "source": [
    "#integer\n",
    "x = 1\n",
    "y = 35656222554887711\n",
    "z = -3255522\n",
    "print(type(x))\n",
    "print(type(y))\n",
    "print(type(z))"
   ]
  },
  {
   "cell_type": "code",
   "execution_count": 9,
   "metadata": {
    "colab": {
     "base_uri": "https://localhost:8080/"
    },
    "id": "tvFCiS2LOPEg",
    "outputId": "1b6e9c48-fc04-4ddc-ac00-765f3efb56ae"
   },
   "outputs": [
    {
     "name": "stdout",
     "output_type": "stream",
     "text": [
      "<class 'float'>\n",
      "<class 'float'>\n",
      "<class 'float'>\n"
     ]
    }
   ],
   "source": [
    "#float\n",
    "x = 1.10\n",
    "y = 1.0\n",
    "z = -35.59\n",
    "print(type(x))\n",
    "print(type(y))\n",
    "print(type(z))"
   ]
  },
  {
   "cell_type": "code",
   "execution_count": 31,
   "metadata": {
    "colab": {
     "base_uri": "https://localhost:8080/"
    },
    "id": "p4vuRTWJOS_I",
    "outputId": "b375eb7b-0973-4fa3-d763-4e55f69797aa"
   },
   "outputs": [
    {
     "name": "stdout",
     "output_type": "stream",
     "text": [
      "<class 'complex'>\n",
      "<class 'complex'>\n",
      "<class 'complex'>\n"
     ]
    }
   ],
   "source": [
    "#complex\n",
    "# 3 + 5i\n",
    "# 1 ^ 1/2 \n",
    "\n",
    "\n",
    "x = 3+5j\n",
    "y = 5j\n",
    "z = -5j\n",
    "\n",
    "print(type(x))\n",
    "print(type(y))\n",
    "print(type(z))"
   ]
  },
  {
   "cell_type": "markdown",
   "metadata": {
    "id": "HnhA56zbPJMq"
   },
   "source": [
    "# **Boolean Values**\n",
    "\n",
    "Used need to know if an expression is True or False.\n",
    "\n",
    "You can evaluate any expression in Python, and get one of two answers, True or False.\n",
    "\n",
    "When comparing two values, the expression is evaluated and Python returns the Boolean answer:"
   ]
  },
  {
   "cell_type": "code",
   "execution_count": 11,
   "metadata": {
    "colab": {
     "base_uri": "https://localhost:8080/"
    },
    "id": "yKHbmx5UP48K",
    "outputId": "e8eb7a7f-2425-4009-b9a8-cee136c2e4f3"
   },
   "outputs": [
    {
     "name": "stdout",
     "output_type": "stream",
     "text": [
      "True\n",
      "False\n",
      "False\n"
     ]
    }
   ],
   "source": [
    "print(10 > 9)\n",
    "print(10 == 9)\n",
    "print(10 < 9)"
   ]
  },
  {
   "cell_type": "markdown",
   "metadata": {
    "id": "qx8I66MIQVm8"
   },
   "source": [
    "# **Slicing**\n",
    "\n",
    "Returns a range of characters by using the slice syntax.\n",
    "\n",
    "Specify the start index and the end index, separated by a colon, to return a part of the string."
   ]
  },
  {
   "cell_type": "code",
   "execution_count": 36,
   "metadata": {
    "colab": {
     "base_uri": "https://localhost:8080/"
    },
    "id": "oIpGQCqVQyBU",
    "outputId": "88cd475f-ba8c-4904-888f-704f3742c320"
   },
   "outputs": [
    {
     "name": "stdout",
     "output_type": "stream",
     "text": [
      "22\n",
      "tif\n",
      "Artif\n",
      "tificial Inteligence\n",
      "gen\n",
      "ecnegiletnI laicifitrA\n"
     ]
    }
   ],
   "source": [
    "\"\"\"\n",
    "slice syntax [start:end:step]\n",
    "Default \n",
    "start = 0\n",
    "end = length\n",
    "step = 1\n",
    "\"\"\"\n",
    "\n",
    "b = \"Artificial Inteligence\"\n",
    "print(len(b))\n",
    "print(b[2:5]) #start and end index specified\n",
    "\n",
    "print(b[:5]) #slice from the start\n",
    "\n",
    "print(b[2:]) #slice till the end\n",
    "\n",
    "print(b[-5:-2]) #negative index\n",
    "\n",
    "print(b[::-1]) #reverse"
   ]
  },
  {
   "cell_type": "markdown",
   "metadata": {
    "id": "Sc7phqk1RhYf"
   },
   "source": [
    "# **Modify Strings**\n",
    "\n",
    "Python has built in methods that can be used on strings"
   ]
  },
  {
   "cell_type": "code",
   "execution_count": 32,
   "metadata": {
    "colab": {
     "base_uri": "https://localhost:8080/"
    },
    "id": "Hf-uGr0WRwRm",
    "outputId": "212c541a-b6ed-4245-8a42-55dfa54ef2e2"
   },
   "outputs": [
    {
     "name": "stdout",
     "output_type": "stream",
     "text": [
      "DATA SCIENCE\n",
      "data science\n",
      "Tony Stark\n",
      " Pony Stark \n",
      "['apple', ' mango', ' banana']\n",
      "Tony Stark\n"
     ]
    }
   ],
   "source": [
    "a = 'Data Science'\n",
    "print(a.upper()) #returns all charatcers in upper case\n",
    "print(a.lower()) #return all charcters in lower case\n",
    "\n",
    "name = \" Tony Stark \"\n",
    "print(name.strip()) #removes leading and trailing spaces\n",
    "\n",
    "print(name.replace(\"T\", \"P\"))#replaces T with P\n",
    "\n",
    "fruits = \"apple, mango, banana\"\n",
    "print(fruits.split(\",\"))\n",
    "\n",
    "#concatenate\n",
    "first_name = 'Tony'\n",
    "last_name = 'Stark'\n",
    "name = first_name + \" \" + last_name\n",
    "print(name)"
   ]
  },
  {
   "cell_type": "markdown",
   "metadata": {
    "id": "xovMSZFVUMvg"
   },
   "source": [
    "# **Operators**\n",
    "\n",
    "Operators are special symbols in Python that carry out arithmetic or logical computation. The value that the operator operates on is called the operand.\n",
    "\n",
    "# **Operator Types**\n",
    "\n",
    "Arithmetic operators\n",
    "\n",
    "Comparison (Relational) operators\n",
    "\n",
    "Logical (Boolean) operators\n",
    "\n",
    "Bitwise operators\n",
    "\n",
    "Assignment operators\n",
    "\n",
    "Special operators\n",
    "\n",
    "# **Arithmetic Operators**\n",
    "\n",
    "Arithmetic operators are used to perform mathematical operations like addition, subtraction, multiplication etc.\n",
    "\n",
    "+ , -, *, /, %, //, **  are arithmetic operators"
   ]
  },
  {
   "cell_type": "code",
   "execution_count": 14,
   "metadata": {
    "colab": {
     "base_uri": "https://localhost:8080/"
    },
    "id": "UmstUSfFUTJ7",
    "outputId": "8dad1742-6349-4cd6-ec1a-9705f3cbb784"
   },
   "outputs": [
    {
     "name": "stdout",
     "output_type": "stream",
     "text": [
      "Sum of x and y 30\n",
      "Difference between x and y -10\n",
      "200\n",
      "2.5\n",
      "1\n",
      "2\n",
      "49\n"
     ]
    }
   ],
   "source": [
    "x, y = 10, 20\n",
    "#sum = x + y \n",
    "add = x + y\n",
    "#addition\n",
    "print(\"Sum of x and y\",x + y)\n",
    "\n",
    "#subtraction(-)\n",
    "print(\"Difference between x and y\", x - y)\n",
    "\n",
    "#multiplication(*)\n",
    "print(x * y)\n",
    "\n",
    "#division(/)\n",
    "z = 5/2\n",
    "print(z)\n",
    "\n",
    "#modulo division (%)\n",
    "print(10%3)\n",
    "\n",
    "#Floor Division (//)\n",
    "z = 5//2\n",
    "print(z)\n",
    "\n",
    "#Exponent (**)\n",
    "print(7**2)"
   ]
  },
  {
   "cell_type": "markdown",
   "metadata": {
    "id": "3TyNrAi0VnbQ"
   },
   "source": [
    "# **Comparision Operators**\n",
    "\n",
    "Comparison operators are used to compare values. It either returns True or False according to the condition.\n",
    "\n",
    ">, <, ==, !=, >=, <= are comparision operators"
   ]
  },
  {
   "cell_type": "code",
   "execution_count": 15,
   "metadata": {
    "colab": {
     "base_uri": "https://localhost:8080/"
    },
    "id": "IWFWs0fQUXVa",
    "outputId": "14c02305-3094-4e77-ee92-c3b377928bfb"
   },
   "outputs": [
    {
     "name": "stdout",
     "output_type": "stream",
     "text": [
      "a is less than b True\n",
      "a is greater than b False\n",
      "a is equal to b False\n",
      "a is not equal to b (!=) True\n",
      "a greater than or equal to b False\n",
      "a less than or equal to b True\n"
     ]
    }
   ],
   "source": [
    "a, b = 10, 20         \n",
    "\n",
    "print(\"a is less than b\", a < b)  #check a is less than b\n",
    "\n",
    "#check a is greater than b\n",
    "print(\"a is greater than b\", a > b)\n",
    "\n",
    "#check a is equal to b\n",
    "print(\"a is equal to b\", a == b)\n",
    "\n",
    "#check a is not equal to b (!=)\n",
    "print(\"a is not equal to b (!=)\", a != b)\n",
    "\n",
    "#check a greater than or equal to b\n",
    "print(\"a greater than or equal to b\", a >= b)\n",
    "\n",
    "#check a less than or equal to b\n",
    "print(\"a less than or equal to b\", a <= b)"
   ]
  },
  {
   "cell_type": "markdown",
   "metadata": {
    "id": "eywSw4ifVqa8"
   },
   "source": [
    "# **Logical Operators**\n",
    "\n",
    "Logical operators are and, or, not operators."
   ]
  },
  {
   "cell_type": "code",
   "execution_count": 16,
   "metadata": {
    "colab": {
     "base_uri": "https://localhost:8080/"
    },
    "id": "2UJLwhwIUaBw",
    "outputId": "79582e74-283f-49a5-98f9-9c40fd0b10da"
   },
   "outputs": [
    {
     "name": "stdout",
     "output_type": "stream",
     "text": [
      "a and b False\n",
      "a or b True\n",
      "not b True\n"
     ]
    }
   ],
   "source": [
    "a, b = True, False\n",
    "\n",
    "#print a and b\n",
    "print(\"a and b\", a and b)\n",
    "\n",
    "#print a or b\n",
    "print(\"a or b\", a or b)\n",
    "\n",
    "#print not b\n",
    "print(\"not b\", not b)"
   ]
  },
  {
   "cell_type": "markdown",
   "metadata": {
    "id": "3wzZPRlOVer6"
   },
   "source": [
    "# **Bitwise operators**\n",
    "\n",
    "Bitwise operators act on operands as if they were string of binary digits. It operates bit by bit\n",
    "\n",
    "&,  |,  ~,  ^,  >>,  << are Bitwise operators"
   ]
  },
  {
   "cell_type": "code",
   "execution_count": 17,
   "metadata": {
    "colab": {
     "base_uri": "https://localhost:8080/"
    },
    "id": "bA8y_MM_UgA-",
    "outputId": "6d5e9e86-9e0f-46e2-a561-eda7d7cf4d37"
   },
   "outputs": [
    {
     "name": "stdout",
     "output_type": "stream",
     "text": [
      "Bitwise AND 0\n",
      "Bitwise OR 14\n",
      "Bitwise NOT -5\n",
      "Bitwise XOR 14\n",
      "Bitwise Rightshift 5\n",
      "Bitwise Leftshift 8\n"
     ]
    }
   ],
   "source": [
    "a, b = 10, 4\n",
    "\n",
    "#Bitwise AND\n",
    "\"\"\"\n",
    "10 = 1010\n",
    "4  = 0100\n",
    "And  0000\n",
    "\"\"\"\n",
    "print(\"Bitwise AND\", a & b)\n",
    "\n",
    "#Bitwise OR\n",
    "\"\"\"\n",
    "10 = 1010\n",
    "4  = 0100\n",
    "OR   1110\n",
    "\"\"\"\n",
    "print(\"Bitwise OR\", a | b)\n",
    "\n",
    "#Bitwise NOT\n",
    "\"\"\"\n",
    "4  = 0100\n",
    "NOT  1011\n",
    "\"\"\"\n",
    "print(\"Bitwise NOT\", ~ b)\n",
    "\n",
    "#Bitwise XOR\n",
    "\"\"\"\n",
    "10 = 1010\n",
    "4  = 0100\n",
    "XOR  1110\n",
    "\"\"\"\n",
    "print(\"Bitwise XOR\", a ^ b)\n",
    "\n",
    "#Bitwise rightshift\n",
    "\"\"\"\n",
    "10 = 1010\n",
    "Right Shift  _101\n",
    "fills blank spaces with 0\n",
    "\"\"\"\n",
    "print(\"Bitwise Rightshift\", a>>1)\n",
    "\n",
    "#Bitwise Leftshift\n",
    "\"\"\"\n",
    "4  = 0100\n",
    "Left Shift  100_\n",
    "fills blank spaces with 0\n",
    "\"\"\"\n",
    "print(\"Bitwise Leftshift\", b<<1)"
   ]
  },
  {
   "cell_type": "markdown",
   "metadata": {
    "id": "MAfHVME0VXne"
   },
   "source": [
    "# **Assignment operators**\n",
    "\n",
    "Assignment operators are used in Python to assign values to variables.\n",
    "\n",
    "a = 5 is a simple assignment operator that assigns the value 5 on the right to the variable a on the left.\n",
    "\n",
    "=,  +=,  -=,  *=,  /=,  %=,  //=,  **=, &=,  |=,  ^=,  >>=,  <<= are Assignment operators"
   ]
  },
  {
   "cell_type": "code",
   "execution_count": 37,
   "metadata": {
    "colab": {
     "base_uri": "https://localhost:8080/"
    },
    "id": "-c70X1esUgME",
    "outputId": "4ea00ea9-c0ff-4d40-b0c0-f1a3478d86e1"
   },
   "outputs": [
    {
     "ename": "SyntaxError",
     "evalue": "invalid syntax (<ipython-input-37-74808497321e>, line 7)",
     "output_type": "error",
     "traceback": [
      "\u001b[0;36m  File \u001b[0;32m\"<ipython-input-37-74808497321e>\"\u001b[0;36m, line \u001b[0;32m7\u001b[0m\n\u001b[0;31m    a - = 10\u001b[0m\n\u001b[0m        ^\u001b[0m\n\u001b[0;31mSyntaxError\u001b[0m\u001b[0;31m:\u001b[0m invalid syntax\n"
     ]
    }
   ],
   "source": [
    "a = 10\n",
    "a = a + 10\n",
    "a += 10         #add AND\n",
    "print(a)\n",
    "\n",
    "#subtract AND (-=)\n",
    "a -= 10\n",
    "#Multiply AND (*=)\n",
    "\n",
    "#Divide AND (/=)\n",
    "\n",
    "#Modulus AND (%=)\n",
    "\n",
    "#Floor Division (//=)\n",
    "\n",
    "#Exponent AND (**=)\n"
   ]
  },
  {
   "cell_type": "markdown",
   "metadata": {
    "id": "taybDHrJUs8O"
   },
   "source": [
    "# **Special Operators**\n",
    "\n",
    "Identity Operators\n",
    "\n",
    "is and is not are the identity operators in Python.\n",
    "\n",
    "They are used to check if two values (or variables) are located on the same part of the memory.\n"
   ]
  },
  {
   "cell_type": "code",
   "execution_count": 38,
   "metadata": {
    "colab": {
     "base_uri": "https://localhost:8080/"
    },
    "id": "AkNcRGg8UrdV",
    "outputId": "3ddcc3e4-7cf0-4c30-f942-9c9112e43b7d"
   },
   "outputs": [
    {
     "name": "stdout",
     "output_type": "stream",
     "text": [
      "False\n",
      "False\n"
     ]
    }
   ],
   "source": [
    "a = 5\n",
    "b = 4\n",
    "print(a is b)    #5 is object created once both a and b points to same object\n",
    "print(a == b)"
   ]
  },
  {
   "cell_type": "code",
   "execution_count": 20,
   "metadata": {
    "colab": {
     "base_uri": "https://localhost:8080/"
    },
    "id": "yu4bF7wMVABC",
    "outputId": "ab8a25bb-315d-4bcd-dcab-7b663090bf1e"
   },
   "outputs": [
    {
     "name": "stdout",
     "output_type": "stream",
     "text": [
      "False\n"
     ]
    }
   ],
   "source": [
    "s1 = \"Satish\"\n",
    "s2 = \"Satish\"\n",
    "print(s1 is not s2)\n"
   ]
  },
  {
   "cell_type": "markdown",
   "metadata": {
    "id": "JENabcJrVCKM"
   },
   "source": [
    "# **MemberShip Operators**\n",
    "\n",
    "in and not in are the membership operators in Python.\n",
    "\n",
    "They are used to test whether a value or variable is found in a sequence (string, list, tuple, set and dictionary).\n"
   ]
  },
  {
   "cell_type": "code",
   "execution_count": 21,
   "metadata": {
    "colab": {
     "base_uri": "https://localhost:8080/"
    },
    "id": "IODeKIp2VJKj",
    "outputId": "92d35164-b2ed-4f93-b990-1bbfd54bd5fa"
   },
   "outputs": [
    {
     "name": "stdout",
     "output_type": "stream",
     "text": [
      "True\n"
     ]
    }
   ],
   "source": [
    "lst = [1, 2, 3, 4]\n",
    "print(1 in lst)       #check 1 is present in a given list or not"
   ]
  },
  {
   "cell_type": "code",
   "execution_count": 22,
   "metadata": {
    "colab": {
     "base_uri": "https://localhost:8080/"
    },
    "id": "xLs8vvoOVRmR",
    "outputId": "af7f3340-c3f5-4f6e-f484-50a82d6a3c52"
   },
   "outputs": [
    {
     "name": "stdout",
     "output_type": "stream",
     "text": [
      "True\n"
     ]
    }
   ],
   "source": [
    "d = {1: \"a\", 2: \"b\"}\n",
    "print(1 in d)"
   ]
  },
  {
   "cell_type": "code",
   "execution_count": 24,
   "metadata": {},
   "outputs": [
    {
     "name": "stdout",
     "output_type": "stream",
     "text": [
      "Hello All\n"
     ]
    }
   ],
   "source": [
    "print('Hello All')"
   ]
  },
  {
   "cell_type": "code",
   "execution_count": null,
   "metadata": {},
   "outputs": [],
   "source": []
  }
 ],
 "metadata": {
  "colab": {
   "name": "Pyhton Basics3rdfeb.ipynb",
   "provenance": []
  },
  "kernelspec": {
   "display_name": "Python 3",
   "language": "python",
   "name": "python3"
  },
  "language_info": {
   "codemirror_mode": {
    "name": "ipython",
    "version": 3
   },
   "file_extension": ".py",
   "mimetype": "text/x-python",
   "name": "python",
   "nbconvert_exporter": "python",
   "pygments_lexer": "ipython3",
   "version": "3.7.10"
  }
 },
 "nbformat": 4,
 "nbformat_minor": 1
}
